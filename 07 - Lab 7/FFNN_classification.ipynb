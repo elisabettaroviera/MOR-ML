{
 "cells": [
  {
   "cell_type": "markdown",
   "metadata": {
    "id": "GRVWuqK7Z73K"
   },
   "source": [
    "# **First (serious) training of a Neural Network!**\n",
    "\n",
    "**Disclaimer**: large parts of the lab are taken from [Deep Learning with PyTorch: A 60 Minute Blitz](https://pytorch.org/tutorials/beginner/deep_learning_60min_blitz.html) by [Soumith Chintala](http://soumith.ch/) and lectures material of [Sebastian Goldt](https://datascience.sissa.it/research-unit/12/theory-of-neural-networks)."
   ]
  },
  {
   "cell_type": "code",
   "execution_count": 1,
   "metadata": {
    "collapsed": false,
    "id": "8ycIXU1yZ73O",
    "jupyter": {
     "outputs_hidden": false
    }
   },
   "outputs": [],
   "source": [
    "### Some starting stuff ####\n",
    "\n",
    "%matplotlib inline\n",
    "\n",
    "import numpy as np\n",
    "\n",
    "import torch\n",
    "import torch.nn as nn # Importing the neural network library\n",
    "from torchvision import datasets, transforms # Transformation contains, i.e., normalization\n",
    "\n",
    "import matplotlib as mpl\n",
    "import matplotlib.pyplot as plt\n",
    "\n",
    "# To plot in a better way\n",
    "plt.rc(\"font\", **{\"size\": 12})\n",
    "plt.rc(\"lines\", linewidth=2.0)\n",
    "mpl.rcParams['lines.markersize'] = 12\n",
    "mpl.rcParams['lines.markeredgewidth'] = 2"
   ]
  },
  {
   "cell_type": "markdown",
   "metadata": {
    "id": "m-GEKbWYZ73Q"
   },
   "source": [
    "# **Definition of Neural Networks by means of ``PyTorch``**\n",
    "\n",
    "The ``torch.nn`` package is used to define and train a Neural Network (model definition). The package depends on ``autograd`` that performs the differentiation.\n",
    "\n",
    "A Neural Network is defined as ``nn.Module`` (that is a class) and its main features are, we need to define some functions, inside, such as: \n",
    "* the layers, --> struction that gives me idea in which way the layer are connected\n",
    "* the ``forward`` method that process the ``input`` to predict an ``output``.\n",
    "\n",
    "The main passages of the training procedure are:\n",
    "- The definition of the neural network and of its learnable parameters (\n",
    "  weights, bias, regulatirations)\n",
    "- Perform a prediction over some ``inputs`` by means of a law (weighted layers and activation functions)\n",
    "- evaluate the loss (i.e. a measure to understand the distance between the prediction and the ``output``)\n",
    "- use back propagation on the trainable paramters parameters\n",
    "- update the trainable parameters (gradient descent-based startegies).\n",
    "\n",
    "**Summarizing**: \n",
    "1. Forward\n",
    "2. Loss\n",
    "3. Backpropagation\n",
    "4. Repeat again and again untile you get the right value of loss\n",
    "\n",
    "**What is means Regularization?** Change the function that you want to minimize to penalize stuff in different way --> you are constraining to go along a direction or onother"
   ]
  },
  {
   "cell_type": "markdown",
   "metadata": {
    "id": "rKNuEqgRsbLd"
   },
   "source": [
    "**Let us define the Network**"
   ]
  },
  {
   "cell_type": "code",
   "execution_count": null,
   "metadata": {
    "colab": {
     "base_uri": "https://localhost:8080/"
    },
    "collapsed": false,
    "id": "Oic085YeZ73R",
    "jupyter": {
     "outputs_hidden": false
    },
    "outputId": "7260525d-4e25-4bb0-bcc9-1d875f742926"
   },
   "outputs": [
    {
     "name": "stdout",
     "output_type": "stream",
     "text": [
      "Net(\n",
      "  (fc1): Linear(in_features=784, out_features=100, bias=True)\n",
      "  (fc2): Linear(in_features=100, out_features=100, bias=True)\n",
      "  (fc3): Linear(in_features=100, out_features=10, bias=True)\n",
      ")\n"
     ]
    }
   ],
   "source": [
    "import torch\n",
    "import torch.nn as nn\n",
    "import torch.nn.functional as F\n",
    "\n",
    "\n",
    "# Build the net inheriting  the data from nn.Module\n",
    "class Net(nn.Module):\n",
    "\n",
    "    def __init__(self): # In the constructor we define the layer of the NN\n",
    "        super(Net, self).__init__()\n",
    "        # 3 Layer\n",
    "        self.fc1 = nn.Linear(784, 100) # Linear one where 784 are the initial pixel 28 x 28 (fully connected)\n",
    "        self.fc2 = nn.Linear(100, 100)\n",
    "        self.fc3 = nn.Linear(100, 10) # Where 10 are the different final label that I want to predict\n",
    "        # self.apply(self._init_weights) # If you want to initialize the weight\n",
    "\n",
    "    \"\"\"\n",
    "    def _init_weights(self, module):\n",
    "        if isinstance(module, nn.Linear):\n",
    "            module.weight.data.normal_(mean=0.0, std=1.0)\n",
    "            if module.bias is not None:\n",
    "                module.bias.data.zero_()\n",
    "    \"\"\"\n",
    "\n",
    "    # Activation \n",
    "    def forward(self, x):  ### Forward law ----> prediction\n",
    "        x = F.relu(self.fc1(x)) # The input is transformed, thanks to the ReLu in the result of the first layer \n",
    "        x = F.relu(self.fc2(x)) \n",
    "\n",
    "        # So I have 3 layer with 2 ReLu and after a Identity function\n",
    "        x = self.fc3(x) # Identity --> we do NOT apply the ReLu\n",
    "        \n",
    "        return x\n",
    "\n",
    "\n",
    "seed_num = 0\n",
    "torch.manual_seed(seed_num)\n",
    "net = Net()\n",
    "print(net)\n",
    "\n",
    "# By defoult I have the bias"
   ]
  },
  {
   "cell_type": "markdown",
   "metadata": {
    "id": "xhv5FqOaZ73R"
   },
   "source": [
    "Only the defintion of the function ``forward`` is needed, since the backward is directly defined for you by ``autograd``.\n",
    "The ``forward`` function is a law where all the Tensors operations are admitted.\n",
    "\n",
    "\n"
   ]
  },
  {
   "cell_type": "markdown",
   "metadata": {
    "id": "YbDj9tFTtZji"
   },
   "source": [
    "Let us give a look to the parameters in ``net.parameters()``"
   ]
  },
  {
   "cell_type": "code",
   "execution_count": 3,
   "metadata": {
    "colab": {
     "base_uri": "https://localhost:8080/"
    },
    "collapsed": false,
    "id": "Q06FYfr_Z73S",
    "jupyter": {
     "outputs_hidden": false
    },
    "outputId": "69066922-391d-4587-83e3-4afd3a6a6a10"
   },
   "outputs": [
    {
     "name": "stdout",
     "output_type": "stream",
     "text": [
      "6\n",
      "torch.Size([100, 784])\n",
      "torch.Size([100])\n",
      "torch.Size([100, 100])\n",
      "torch.Size([100])\n",
      "torch.Size([10, 100])\n",
      "torch.Size([10])\n"
     ]
    }
   ],
   "source": [
    "params = list(net.parameters()) # All the parameters put in a list: weight and bias for each layer (3 x 2 = 6)\n",
    "print(len(params))\n",
    "print(params[0].size())  # fc1 .weight\n",
    "print(params[1].size())\n",
    "print(params[2].size())\n",
    "print(params[3].size())\n",
    "print(params[4].size())\n",
    "print(params[5].size())"
   ]
  },
  {
   "cell_type": "raw",
   "metadata": {},
   "source": [
    "torch.Size([100, 784]) # weight for the first layer\n",
    "torch.Size([100]) # bias for the first layer\n",
    "torch.Size([100, 100]) # weight for the second layer\n",
    "torch.Size([100]) # bias for the second layer\n",
    "torch.Size([10, 100]) # weight for the third layer\n",
    "torch.Size([10]) # bias for the third layer"
   ]
  },
  {
   "cell_type": "markdown",
   "metadata": {
    "id": "saWATQuJZ73S"
   },
   "source": [
    "_**Question time!**_: why is the number of parameters 6? We have only three layers...\n",
    "\n",
    "_**Let give it a try**_: we define a random 28x28 = 784 ``input``.\n",
    "\n",
    "_**Question time!**_: why do we need a 28x28 = 784 ``input``?\n",
    "\n"
   ]
  },
  {
   "cell_type": "code",
   "execution_count": 4,
   "metadata": {
    "colab": {
     "base_uri": "https://localhost:8080/"
    },
    "collapsed": false,
    "id": "Bm1ZnqkCZ73T",
    "jupyter": {
     "outputs_hidden": false
    },
    "outputId": "bcacb3a3-6460-41ca-9d5e-3b1091c43bac"
   },
   "outputs": [
    {
     "name": "stdout",
     "output_type": "stream",
     "text": [
      "tensor([[ 0.1824,  0.0367, -0.1264, -0.1809,  0.0431, -0.0219,  0.0701,  0.0807,\n",
      "          0.1693, -0.0903]], grad_fn=<AddmmBackward0>)\n"
     ]
    }
   ],
   "source": [
    "input = torch.randn(1, 784) # Dimension that I need to give in input to perform an evaluation\n",
    "out = net(input)\n",
    "print(out)"
   ]
  },
  {
   "cell_type": "markdown",
   "metadata": {
    "id": "7lxA_32CZ73U"
   },
   "source": [
    "We now use the function ``zero_grad`` to set the gradient at zero. It is a good practise because for each mini-batch we want to forget the information about the gradient (otherwise it is accumulated).\n",
    "We now use back propagation over a random gradient.\n",
    "\n"
   ]
  },
  {
   "cell_type": "code",
   "execution_count": null,
   "metadata": {
    "collapsed": false,
    "id": "9O4-mcMLZ73U",
    "jupyter": {
     "outputs_hidden": false
    }
   },
   "outputs": [],
   "source": [
    "net.zero_grad() # With zero_grad() we reset the gradients of the neural network parameters that have been accumulated previously\n",
    "out.backward(torch.randn(1, 10))"
   ]
  },
  {
   "cell_type": "markdown",
   "metadata": {
    "id": "9punpH24Z73U"
   },
   "source": [
    "**Be careful!** ``torch.nn`` is able to only work with batches (i.e. more than one ``input`` with some features). If you want to work with a single sample, use the command ``input.unsqueeze(0)`` to add a fake dimension related to the batch size.\n",
    "\n"
   ]
  },
  {
   "cell_type": "markdown",
   "metadata": {
    "id": "XCalZl21LgmB"
   },
   "source": [
    "**A brief recap: the features we are dealing with are...**  \n",
    "-  ``torch.Tensor``: the ``PyTorch`` _multi-dimensional array_ that supports ``autograd`` (and, thus, ``backward()`` operation). \n",
    "-  ``nn.Module``: it is the _definition of the Neural Network_ with information about parameters, layers and forward law.\n",
    "-  ``nn.Parameter``: a Tensor with all the parameters (the bias are present by default!) authomatically generated from the layers.\n",
    "\n",
    "**A brief recap: we...**\n",
    "* defined the net\n",
    "* postprocessed the input thanks to the forward law\n",
    "* have been able to compute gradients\n",
    "\n",
    "**There is something missing though!**\n",
    "* The loss --> functional of the optimization problem\n",
    "* the update of the parameters."
   ]
  },
  {
   "cell_type": "markdown",
   "metadata": {
    "id": "cQh0lTQXTOQd"
   },
   "source": [
    "# **The Loss**\n",
    "The loss is a function that evaluates how far the prediction is from the target (i.e. the _known output_ of the dataset). The ``Torch.nn`` has many losses, [give a look](https://pytorch.org/docs/nn.html#loss-functions)!\n",
    "The most common is the ``nn.MSELoss``, i.e. the mean-squared error\n",
    "between the prediction and the given data.\n"
   ]
  },
  {
   "cell_type": "code",
   "execution_count": null,
   "metadata": {
    "colab": {
     "base_uri": "https://localhost:8080/"
    },
    "collapsed": false,
    "id": "z-dIPzvKZ73W",
    "jupyter": {
     "outputs_hidden": false
    },
    "outputId": "c17e1455-9dfc-469b-808d-1a1c71d80c2f"
   },
   "outputs": [
    {
     "name": "stdout",
     "output_type": "stream",
     "text": [
      "torch.Size([10])\n",
      "tensor(1.3280, grad_fn=<MseLossBackward0>)\n"
     ]
    }
   ],
   "source": [
    "output = net(input)\n",
    "target = torch.randn(10)  # a dummy target, for example --> random number\n",
    "print(target.shape)\n",
    "target = target.view(1, 10)  # make it the same shape as output of the net, you can use target.view(1, -1) [equivalent]\n",
    "\n",
    "# MSE the most common and most intuitive, but not used in general\n",
    "criterion = nn.MSELoss() # Import the loss from torch (there are a lot of defined loss in this package)\n",
    "\n",
    "loss = criterion(output, target)\n",
    "print(loss) # Tell us the discrepancy: output of the MSE apply to this case"
   ]
  },
  {
   "cell_type": "markdown",
   "metadata": {
    "id": "kI6AdWRcZ73X"
   },
   "source": [
    "# **Backpropagation**\n",
    "\n",
    "To perform backpropagation on the loss we have to call ``loss.backward()``. But, as already said, first thing first: clear the existing gradients to avoid accumulating existing information.\n",
    "\n"
   ]
  },
  {
   "cell_type": "code",
   "execution_count": null,
   "metadata": {
    "colab": {
     "base_uri": "https://localhost:8080/"
    },
    "collapsed": false,
    "id": "CWqAN90PZ73Y",
    "jupyter": {
     "outputs_hidden": false
    },
    "outputId": "959bee6d-9506-4a66-f134-0091120c14e8"
   },
   "outputs": [
    {
     "name": "stdout",
     "output_type": "stream",
     "text": [
      "fc1.bias.grad before backward\n",
      "None\n",
      "fc1.bias.grad after backward\n",
      "tensor([ 0.0058,  0.0000,  0.0281,  0.0000,  0.0000,  0.0000,  0.0000,  0.0000,\n",
      "         0.0000,  0.0000,  0.0000,  0.0302, -0.0170,  0.0000, -0.0098,  0.0006,\n",
      "         0.0120,  0.0000,  0.0000,  0.0000, -0.0157,  0.0286, -0.0168, -0.0034,\n",
      "         0.0000,  0.0006, -0.0182,  0.0000,  0.0175,  0.0000,  0.0000,  0.0000,\n",
      "         0.0000, -0.0089,  0.0000, -0.0038,  0.0000,  0.0000,  0.0119, -0.0102,\n",
      "         0.0000, -0.0144,  0.0266,  0.0000,  0.0079, -0.0142, -0.0155, -0.0121,\n",
      "         0.0107,  0.0000,  0.0145,  0.0000,  0.0000,  0.0000,  0.0157,  0.0007,\n",
      "         0.0164,  0.0000,  0.0125, -0.0099, -0.0070,  0.0000, -0.0291,  0.0274,\n",
      "         0.0000,  0.0000,  0.0000,  0.0000,  0.0000,  0.0381,  0.0000,  0.0083,\n",
      "         0.0355, -0.0167, -0.0361,  0.0167,  0.0000,  0.0000, -0.0113,  0.0068,\n",
      "        -0.0195,  0.0000, -0.0136,  0.0000, -0.0003,  0.0317,  0.0495,  0.0291,\n",
      "         0.0039,  0.0000,  0.0000,  0.0000, -0.0158,  0.0000, -0.0426,  0.0099,\n",
      "         0.0000,  0.0000,  0.0000,  0.0000])\n"
     ]
    }
   ],
   "source": [
    "net.zero_grad()     # zeroes the gradient --> ?\n",
    "print('fc1.bias.grad before backward')\n",
    "print(net.fc1.bias.grad)\n",
    "\n",
    "loss.backward()\n",
    "\n",
    "print('fc1.bias.grad after backward')\n",
    "print(net.fc1.bias.grad)"
   ]
  },
  {
   "cell_type": "markdown",
   "metadata": {
    "id": "Y09bOoe7Z73Y"
   },
   "source": [
    "# **The update**\n",
    "\n",
    "We have seen that the simplest way to update the parameters is the Stochastic Gradient Descent:\n",
    "\n",
    "     ``weight = weight - learning_rate * weight_gradient``\n",
    "     ``bias = bias - learning_rate * bias``\n",
    "\n",
    "\n",
    "We can implement it by hand as\n",
    "\n",
    "    learning_rate = 0.01\n",
    "    for p in net.parameters():\n",
    "        p.data.sub_(p.grad.data * learning_rate)\n",
    "\n",
    "However, there are many rules to update the parameters: SGD, Nesterov-SGD, Adam (most used), RMSProp (very fast in convergence), etc. --> better to use this that are optimize and performe better\n",
    "\n",
    "We can use the package ``torch.optim`` to choose them. The sintax is very simple:"
   ]
  },
  {
   "cell_type": "code",
   "execution_count": null,
   "metadata": {
    "collapsed": false,
    "id": "38bWLFxkZ73Z",
    "jupyter": {
     "outputs_hidden": false
    }
   },
   "outputs": [],
   "source": [
    "import torch.optim as optim\n",
    "\n",
    "# create your optimizer\n",
    "optimizer = optim.SGD(net.parameters(), lr=0.01) # Definition of the optimizer\n",
    "\n",
    "# in your training loop:\n",
    "optimizer.zero_grad()   # zero the gradient\n",
    "output = net(input)\n",
    "loss = criterion(output, target)\n",
    "loss.backward() # Compute the gradient with the backward\n",
    "optimizer.step() # Does the update --> optimization done NOT by hand"
   ]
  },
  {
   "cell_type": "markdown",
   "metadata": {
    "id": "hV8hKtwTZ73a"
   },
   "source": [
    "**That'a all folks!**\n"
   ]
  },
  {
   "cell_type": "markdown",
   "metadata": {
    "id": "hnWapNJvZ73a"
   },
   "source": [
    "# **Your Turn: train the MNIST dataset with Pytorch!** \n",
    "\n",
    "First of all, let us collect the data from the package ``torchvision``.\n",
    "Our goal is to train _an image classifier_. Given a hand-written digit, we want to associate a number.\n",
    "\n",
    "Please, follow these tasks:\n",
    "\n",
    "1. Load and normalize the training and test dataset (MNIST) using\n",
    "   ``torchvision`` and visualize them (together). \n",
    "2. Define the Neural Network ``Net()``. --> NET\n",
    "3. Define the loss function (give a look to ``nn.CrossEntropyLoss()``) and choose an optimizer (give the probability distrubution of the label class: at the end you will have the vector containing the probability of belonging to the different classe). --> LOSS\n",
    "4. Train the Network on the training data. --> TRAIN\n",
    "5. Test the Network on the test data (together). --> TEST"
   ]
  },
  {
   "cell_type": "code",
   "execution_count": null,
   "metadata": {
    "collapsed": false,
    "id": "444T5PnMZ73b",
    "jupyter": {
     "outputs_hidden": false
    }
   },
   "outputs": [],
   "source": [
    "import torch\n",
    "import torch.nn as nn\n",
    "from torchvision import datasets, transforms # In orderd to import DataLoader: usefull to import data from torch"
   ]
  },
  {
   "cell_type": "markdown",
   "metadata": {
    "id": "I8GB4hODZ73d"
   },
   "source": [
    "**Task 1**: In the following we load the data in the ``DataLoader`` that is a peculiar structure that allows many operations on the data in a _smarter way_. See the [documentation](https://pytorch.org/tutorials/beginner/basics/data_tutorial.html). --> To devide the data, and preprocessing them\n",
    "\n",
    "**Dataset**: MNIST images. The MNIST dataset contains 28x28 grayscale images of handwritten digits from 0 to 9. The training set has 60,000 samples, the test set has 10,000 samples. The output is an interger label from 0 to 9.\n",
    "\n",
    "Dataset class in pytorch recasts the data in a tuple in other to create the dataloader class which can be used to shuffle, apply Mini-Batch Gradient Descent and more."
   ]
  },
  {
   "cell_type": "code",
   "execution_count": null,
   "metadata": {
    "colab": {
     "base_uri": "https://localhost:8080/",
     "height": 443,
     "referenced_widgets": [
      "a9b21a7cc4b0450fae69e5d2fe320d17",
      "9fe2dafd7e0e4fca8bbac40aad763f34",
      "e4440137d32342af8b73d6426d3a9612",
      "c7b4a66d57b7480baa70a85f378c5291",
      "9a1c8c0e906f4c9b8c61f8756cdb72b2",
      "53e5c4d4f9114cbf9ee97690cd8229b5",
      "62a304e3ae784089a23736a68ff238f8",
      "5f25701b59774b86af4a69c3d41d6d86",
      "617bc35009794224b24cfa08b52bf802",
      "ea19f279d6ca431aa6e3ac94fa25de96",
      "c1a581cbf4f0414b87557e94fa968df7",
      "8a5bcbe762964687a4cd796f599a6e27",
      "3f5ac9761f444cd59cd83d9931646fb7",
      "aaf2813a41cf4b30850e1b51d5252249",
      "f93440202a2343e5ab31b918506366a8",
      "23eb8e45f2614860b7e47e35a3e375ff",
      "81436e4be1dc4761ba52eaa8f1e2a27d",
      "9d74d0b981a44b12a846467cb14fc965",
      "8d36f2cfbd5a49d6a530f664faff8ab8",
      "8dd74f29a23a4847897602268ef3400f",
      "69a869757cf243ca966713f08901217b",
      "9769f08d30164cf2afc48c703955ba42",
      "2c08243147cd4c98972ec52212346529",
      "56965fe24e5045cb871b109cc311cf32",
      "20124f68c1e74c4bbf23dc1d9c793d19",
      "274cee134e6c487488ac79b11d9a60ac",
      "da8154cd7fd74d9cb6482ffd14c63001",
      "3a2f986d087046adb7695051e43dd0b7",
      "9e6ee837fb2d4651a56e551de14c8667",
      "3cc5da4562c147c7bb5e3552cd6fb3f1",
      "25a161226ada41c9bf1e04838a4d36ca",
      "7208970c86204b13825847dd3d91a85b",
      "89fd833031ef49f28343942d209c084c",
      "d0b4d9062fca47dcbed7ee5863d7be14",
      "c2b8e79eacee4ca78425e87b176b8755",
      "0cc01af8dac945a38a21a2032cfc6071",
      "c0800af8023e4e399803257b722f89fe",
      "5531c26705ea41f38cd128c8c139318a",
      "288484ac3ead4944af27bec919ca390b",
      "e1661288ed284ed5a823a7efb44ad374",
      "11b083dbbf7745c8bb3ca859118c4be4",
      "8b5325f48e0a41709b72c2410a2fc3f8",
      "1675839658d649cb9e1e1949870db160",
      "35b6d6b938994aa5a37b6b7a8239f536"
     ]
    },
    "id": "WCcR8LQdK49S",
    "outputId": "d76fa6e1-4542-436a-a0f6-78b340f77eaa"
   },
   "outputs": [
    {
     "name": "stderr",
     "output_type": "stream",
     "text": [
      "100%|████████████████████████████████████████████████████████████| 9.91M/9.91M [00:01<00:00, 5.31MB/s]\n",
      "100%|█████████████████████████████████████████████████████████████| 28.9k/28.9k [00:00<00:00, 311kB/s]\n",
      "100%|████████████████████████████████████████████████████████████| 1.65M/1.65M [00:00<00:00, 1.96MB/s]\n",
      "100%|████████████████████████████████████████████████████████████| 4.54k/4.54k [00:00<00:00, 2.37MB/s]\n"
     ]
    }
   ],
   "source": [
    "transform = transforms.Compose([transforms.ToTensor()]) # Composition of transformation (in this case only one, in general more than one): the data has to be set in torch array (i.e, no numpy)\n",
    "\n",
    "# Import the dataset (trianing part)\n",
    "mnist_trainset = datasets.MNIST(root='./data', train=True, download=True, transform=transform) \n",
    "train_loader = torch.utils.data.DataLoader(mnist_trainset, batch_size=10, shuffle=True) # shuffle=True --> takes the batches and mix together, to have more informarmation during the train\n",
    "\n",
    "# The same for the test\n",
    "mnist_testset = datasets.MNIST(root='./data', train=False, download=True, transform=transform)\n",
    "test_loader = torch.utils.data.DataLoader(mnist_testset, batch_size=10, shuffle=True)"
   ]
  },
  {
   "cell_type": "markdown",
   "metadata": {
    "id": "KsIOUUVTZ73c"
   },
   "source": [
    "Let us visualize some of the digits.\n",
    "\n"
   ]
  },
  {
   "cell_type": "code",
   "execution_count": 11,
   "metadata": {
    "colab": {
     "base_uri": "https://localhost:8080/",
     "height": 156
    },
    "id": "IcfUR-GpMgiN",
    "outputId": "7d0e888e-309d-4b01-9f2c-ec5f539dc5c8"
   },
   "outputs": [
    {
     "data": {
      "image/png": "[encoded data removed]",
      "text/plain": [
       "<Figure size 640x480 with 3 Axes>"
      ]
     },
     "metadata": {},
     "output_type": "display_data"
    }
   ],
   "source": [
    "import matplotlib.pyplot as plt\n",
    "\n",
    "# get some random training images\n",
    "dataiter = iter(train_loader)\n",
    "images, labels = next(dataiter)\n",
    "\n",
    "\n",
    "fig = plt.figure()\n",
    "for i in range(3):\n",
    "  plt.subplot(1,3,i+1)\n",
    "  plt.tight_layout()\n",
    "  plt.imshow(images[i][0], cmap='gray', interpolation='none')\n",
    "  plt.title(\"Label: {}\".format(labels[i]))\n",
    "  plt.xticks([])\n",
    "  plt.yticks([])"
   ]
  },
  {
   "cell_type": "markdown",
   "metadata": {
    "id": "a6nEOFcETkV2"
   },
   "source": [
    "**Task 2**: define and call ``Net()``, a fully connected feedforward Neural Network made from an input layer (_what is the dimension of the input?_), hidden layers, and an output layer. The structure is [``input_dim``, 100, 50, ``output_dim``] (_what is the dimension of the output?_)\n",
    "Moreover, the internal neurons have feature a ``Tanh`` _activation function action_, while the output layer is subjected to ``ReLU``.\n",
    "\n",
    "- **Input**: 28x28=726 dimension of the input\n",
    "- **Output**: 10 dimension of the output (the differen classes)\n",
    "\n",
    "**Be careful!**: a reshape of the input is needed!"
   ]
  },
  {
   "cell_type": "code",
   "execution_count": null,
   "metadata": {
    "id": "hbo223b9LB-o"
   },
   "outputs": [],
   "source": [
    "# Build the NET as usual\n",
    "class Net(nn.Module):\n",
    "    def __init__(self): # Constractor\n",
    "        super(Net,self).__init__()\n",
    "        self.linear1 = nn.Linear(28*28, 100) # First layer\n",
    "        self.linear2 = nn.Linear(100,50)  # Middle layer\n",
    "        self.final = nn.Linear(50,10) # Final layer\n",
    "\n",
    "        # Activation function\n",
    "        self.tanh = nn.Tanh() # More uesd because we have both positive and negative value\n",
    "        self.relu = nn.ReLU()\n",
    "        ## self.apply(self._init_weights) # To define the initial weights (if you want, as done in the previous lab - \"Gradient_descent\")\n",
    "\n",
    "    \"\"\"\n",
    "    def HERE YOU CAN DEFINE THE WEIGHTS (look above)\n",
    "    \"\"\"\n",
    "        \n",
    "    def forward(self, img): #convert + flatten\n",
    "        x = img.view(-1, 28*28)\n",
    "\n",
    "        # Application of the activation function to the different layer of out net\n",
    "        x = self.tanh(self.linear1(x))\n",
    "        x = self.tanh(self.linear2(x))\n",
    "        x = self.relu(self.final(x))\n",
    "\n",
    "        return x\n",
    "\n",
    "seed_num = 1\n",
    "torch.manual_seed(seed_num)\n",
    "net = Net() # Creation of the net"
   ]
  },
  {
   "cell_type": "markdown",
   "metadata": {
    "id": "jdCVWe7oa6BH"
   },
   "source": [
    "**Task 3 and 4**: define the loss (``nn.CrossEntropyLoss()``) and choose an optimizer (_Let us start with SGD?_). Fix the learning rate.\n",
    "When we work with mini-batches, we can iterate over the DataLoarder (6000 iterations for a mini-batch of dimention 10) for some epochs, say 10. Complete the following cell. --> We're looking 10-by-10 value\n",
    "\n",
    "We have two counter:\n",
    "1. Epochs \n",
    "2. Minibatches -> how long I go through the data at each epoch"
   ]
  },
  {
   "cell_type": "markdown",
   "metadata": {
    "id": "0XFbMyNafCm-"
   },
   "source": [
    "_Can you trace the loss and plot it with respect to the number of iterations (different from epochs)_?"
   ]
  },
  {
   "cell_type": "code",
   "execution_count": null,
   "metadata": {
    "colab": {
     "base_uri": "https://localhost:8080/"
    },
    "id": "tY8W55toLO8E",
    "outputId": "681f3bd6-ce18-4dfb-e3f7-927462ebc407",
    "scrolled": true
   },
   "outputs": [
    {
     "name": "stdout",
     "output_type": "stream",
     "text": [
      "[1,   200] loss: 2.201\n",
      "[1,   400] loss: 1.749\n",
      "[1,   600] loss: 2.188\n",
      "[1,   800] loss: 1.706\n",
      "[1,  1000] loss: 0.994\n",
      "[1,  1200] loss: 0.990\n",
      "[1,  1400] loss: 0.557\n",
      "[1,  1600] loss: 1.403\n",
      "[1,  1800] loss: 0.543\n",
      "[1,  2000] loss: 0.528\n",
      "[1,  2200] loss: 0.424\n",
      "[1,  2400] loss: 0.459\n",
      "[1,  2600] loss: 0.362\n",
      "[1,  2800] loss: 0.370\n",
      "[1,  3000] loss: 0.129\n",
      "[1,  3200] loss: 0.476\n",
      "[1,  3400] loss: 0.272\n",
      "[1,  3600] loss: 0.233\n",
      "[1,  3800] loss: 0.362\n",
      "[1,  4000] loss: 0.245\n",
      "[1,  4200] loss: 0.349\n",
      "[1,  4400] loss: 0.206\n",
      "[1,  4600] loss: 0.203\n",
      "[1,  4800] loss: 0.061\n",
      "[1,  5000] loss: 0.270\n",
      "[1,  5200] loss: 0.137\n",
      "[1,  5400] loss: 0.120\n",
      "[1,  5600] loss: 0.183\n",
      "[1,  5800] loss: 0.252\n",
      "[1,  6000] loss: 0.147\n",
      "[2,  6200] loss: 0.181\n",
      "[2,  6400] loss: 0.223\n",
      "[2,  6600] loss: 0.503\n",
      "[2,  6800] loss: 0.146\n",
      "[2,  7000] loss: 0.164\n",
      "[2,  7200] loss: 0.071\n",
      "[2,  7400] loss: 1.029\n",
      "[2,  7600] loss: 0.358\n",
      "[2,  7800] loss: 0.050\n",
      "[2,  8000] loss: 0.305\n",
      "[2,  8200] loss: 0.211\n",
      "[2,  8400] loss: 0.307\n",
      "[2,  8600] loss: 0.169\n",
      "[2,  8800] loss: 0.040\n",
      "[2,  9000] loss: 0.507\n",
      "[2,  9200] loss: 0.199\n",
      "[2,  9400] loss: 0.847\n",
      "[2,  9600] loss: 0.742\n",
      "[2,  9800] loss: 0.064\n",
      "[2, 10000] loss: 0.219\n",
      "[2, 10200] loss: 0.601\n",
      "[2, 10400] loss: 0.060\n",
      "[2, 10600] loss: 0.419\n",
      "[2, 10800] loss: 0.040\n",
      "[2, 11000] loss: 0.565\n",
      "[2, 11200] loss: 0.159\n",
      "[2, 11400] loss: 0.049\n",
      "[2, 11600] loss: 0.783\n",
      "[2, 11800] loss: 0.036\n",
      "[2, 12000] loss: 0.400\n",
      "[3, 12200] loss: 0.453\n",
      "[3, 12400] loss: 0.103\n",
      "[3, 12600] loss: 0.107\n",
      "[3, 12800] loss: 0.198\n",
      "[3, 13000] loss: 0.206\n",
      "[3, 13200] loss: 0.262\n",
      "[3, 13400] loss: 0.082\n",
      "[3, 13600] loss: 0.025\n",
      "[3, 13800] loss: 0.148\n",
      "[3, 14000] loss: 0.094\n",
      "[3, 14200] loss: 0.022\n",
      "[3, 14400] loss: 0.100\n",
      "[3, 14600] loss: 0.033\n",
      "[3, 14800] loss: 0.257\n",
      "[3, 15000] loss: 0.300\n",
      "[3, 15200] loss: 0.172\n",
      "[3, 15400] loss: 0.020\n",
      "[3, 15600] loss: 0.052\n",
      "[3, 15800] loss: 0.109\n",
      "[3, 16000] loss: 0.015\n",
      "[3, 16200] loss: 0.095\n",
      "[3, 16400] loss: 0.030\n",
      "[3, 16600] loss: 0.513\n",
      "[3, 16800] loss: 0.064\n",
      "[3, 17000] loss: 0.114\n",
      "[3, 17200] loss: 0.352\n",
      "[3, 17400] loss: 0.122\n",
      "[3, 17600] loss: 0.291\n",
      "[3, 17800] loss: 0.370\n",
      "[3, 18000] loss: 0.130\n",
      "[4, 18200] loss: 0.276\n",
      "[4, 18400] loss: 0.157\n",
      "[4, 18600] loss: 0.124\n",
      "[4, 18800] loss: 0.012\n",
      "[4, 19000] loss: 0.234\n",
      "[4, 19200] loss: 0.232\n",
      "[4, 19400] loss: 0.022\n",
      "[4, 19600] loss: 0.678\n",
      "[4, 19800] loss: 0.125\n",
      "[4, 20000] loss: 0.274\n",
      "[4, 20200] loss: 0.087\n",
      "[4, 20400] loss: 0.014\n",
      "[4, 20600] loss: 0.148\n",
      "[4, 20800] loss: 0.037\n",
      "[4, 21000] loss: 0.219\n",
      "[4, 21200] loss: 0.103\n",
      "[4, 21400] loss: 0.042\n",
      "[4, 21600] loss: 0.061\n",
      "[4, 21800] loss: 0.012\n",
      "[4, 22000] loss: 0.047\n",
      "[4, 22200] loss: 0.156\n",
      "[4, 22400] loss: 0.016\n",
      "[4, 22600] loss: 0.054\n",
      "[4, 22800] loss: 0.018\n",
      "[4, 23000] loss: 0.159\n",
      "[4, 23200] loss: 0.165\n",
      "[4, 23400] loss: 0.022\n",
      "[4, 23600] loss: 0.082\n",
      "[4, 23800] loss: 0.337\n",
      "[4, 24000] loss: 0.096\n",
      "[5, 24200] loss: 0.024\n",
      "[5, 24400] loss: 0.014\n",
      "[5, 24600] loss: 0.272\n",
      "[5, 24800] loss: 0.153\n",
      "[5, 25000] loss: 0.077\n",
      "[5, 25200] loss: 0.031\n",
      "[5, 25400] loss: 0.035\n",
      "[5, 25600] loss: 0.025\n",
      "[5, 25800] loss: 0.016\n",
      "[5, 26000] loss: 0.359\n",
      "[5, 26200] loss: 0.118\n",
      "[5, 26400] loss: 0.035\n",
      "[5, 26600] loss: 0.026\n",
      "[5, 26800] loss: 0.196\n",
      "[5, 27000] loss: 0.005\n",
      "[5, 27200] loss: 0.159\n",
      "[5, 27400] loss: 0.118\n",
      "[5, 27600] loss: 0.254\n",
      "[5, 27800] loss: 0.123\n",
      "[5, 28000] loss: 0.011\n",
      "[5, 28200] loss: 0.020\n",
      "[5, 28400] loss: 0.905\n",
      "[5, 28600] loss: 0.037\n",
      "[5, 28800] loss: 0.216\n",
      "[5, 29000] loss: 0.021\n",
      "[5, 29200] loss: 0.093\n",
      "[5, 29400] loss: 0.057\n",
      "[5, 29600] loss: 0.062\n",
      "[5, 29800] loss: 0.016\n",
      "[5, 30000] loss: 0.208\n",
      "[6, 30200] loss: 0.056\n",
      "[6, 30400] loss: 0.199\n",
      "[6, 30600] loss: 0.020\n",
      "[6, 30800] loss: 0.030\n",
      "[6, 31000] loss: 0.068\n",
      "[6, 31200] loss: 0.030\n",
      "[6, 31400] loss: 0.088\n",
      "[6, 31600] loss: 0.151\n",
      "[6, 31800] loss: 0.354\n",
      "[6, 32000] loss: 0.058\n",
      "[6, 32200] loss: 0.026\n",
      "[6, 32400] loss: 0.011\n",
      "[6, 32600] loss: 0.013\n",
      "[6, 32800] loss: 0.229\n",
      "[6, 33000] loss: 0.069\n",
      "[6, 33200] loss: 0.375\n",
      "[6, 33400] loss: 0.159\n",
      "[6, 33600] loss: 0.129\n",
      "[6, 33800] loss: 0.023\n",
      "[6, 34000] loss: 0.087\n",
      "[6, 34200] loss: 0.053\n",
      "[6, 34400] loss: 0.040\n",
      "[6, 34600] loss: 0.151\n",
      "[6, 34800] loss: 0.265\n",
      "[6, 35000] loss: 0.042\n",
      "[6, 35200] loss: 0.623\n",
      "[6, 35400] loss: 0.115\n",
      "[6, 35600] loss: 0.048\n",
      "[6, 35800] loss: 0.093\n",
      "[6, 36000] loss: 0.022\n",
      "[7, 36200] loss: 0.016\n",
      "[7, 36400] loss: 0.294\n",
      "[7, 36600] loss: 0.201\n",
      "[7, 36800] loss: 0.026\n",
      "[7, 37000] loss: 0.013\n",
      "[7, 37200] loss: 0.017\n",
      "[7, 37400] loss: 0.009\n",
      "[7, 37600] loss: 0.104\n",
      "[7, 37800] loss: 0.558\n",
      "[7, 38000] loss: 0.084\n",
      "[7, 38200] loss: 0.439\n",
      "[7, 38400] loss: 0.188\n",
      "[7, 38600] loss: 0.015\n",
      "[7, 38800] loss: 0.047\n",
      "[7, 39000] loss: 0.029\n",
      "[7, 39200] loss: 0.012\n",
      "[7, 39400] loss: 0.018\n",
      "[7, 39600] loss: 0.033\n",
      "[7, 39800] loss: 0.046\n",
      "[7, 40000] loss: 0.156\n",
      "[7, 40200] loss: 0.270\n",
      "[7, 40400] loss: 0.061\n",
      "[7, 40600] loss: 0.018\n",
      "[7, 40800] loss: 0.120\n",
      "[7, 41000] loss: 0.110\n",
      "[7, 41200] loss: 0.119\n",
      "[7, 41400] loss: 0.231\n",
      "[7, 41600] loss: 0.005\n",
      "[7, 41800] loss: 0.162\n",
      "[7, 42000] loss: 0.186\n",
      "[8, 42200] loss: 0.181\n",
      "[8, 42400] loss: 0.263\n",
      "[8, 42600] loss: 0.057\n",
      "[8, 42800] loss: 0.012\n",
      "[8, 43000] loss: 0.092\n",
      "[8, 43200] loss: 0.030\n",
      "[8, 43400] loss: 0.114\n",
      "[8, 43600] loss: 0.009\n",
      "[8, 43800] loss: 0.011\n",
      "[8, 44000] loss: 0.025\n",
      "[8, 44200] loss: 0.199\n",
      "[8, 44400] loss: 0.352\n",
      "[8, 44600] loss: 0.040\n",
      "[8, 44800] loss: 0.010\n",
      "[8, 45000] loss: 0.168\n",
      "[8, 45200] loss: 0.012\n",
      "[8, 45400] loss: 0.398\n",
      "[8, 45600] loss: 0.023\n",
      "[8, 45800] loss: 0.048\n",
      "[8, 46000] loss: 0.169\n",
      "[8, 46200] loss: 0.039\n",
      "[8, 46400] loss: 0.016\n",
      "[8, 46600] loss: 0.004\n",
      "[8, 46800] loss: 0.114\n",
      "[8, 47000] loss: 0.066\n",
      "[8, 47200] loss: 0.012\n",
      "[8, 47400] loss: 0.021\n",
      "[8, 47600] loss: 0.006\n",
      "[8, 47800] loss: 0.012\n",
      "[8, 48000] loss: 0.247\n",
      "[9, 48200] loss: 0.006\n",
      "[9, 48400] loss: 0.078\n",
      "[9, 48600] loss: 0.011\n",
      "[9, 48800] loss: 0.004\n",
      "[9, 49000] loss: 0.002\n",
      "[9, 49200] loss: 0.009\n",
      "[9, 49400] loss: 0.009\n",
      "[9, 49600] loss: 0.054\n",
      "[9, 49800] loss: 0.192\n",
      "[9, 50000] loss: 0.068\n",
      "[9, 50200] loss: 0.016\n",
      "[9, 50400] loss: 0.097\n",
      "[9, 50600] loss: 0.010\n",
      "[9, 50800] loss: 0.011\n",
      "[9, 51000] loss: 0.024\n",
      "[9, 51200] loss: 0.047\n",
      "[9, 51400] loss: 0.001\n",
      "[9, 51600] loss: 0.008\n",
      "[9, 51800] loss: 0.006\n",
      "[9, 52000] loss: 0.007\n",
      "[9, 52200] loss: 0.164\n",
      "[9, 52400] loss: 0.059\n",
      "[9, 52600] loss: 0.049\n",
      "[9, 52800] loss: 0.005\n",
      "[9, 53000] loss: 0.012\n",
      "[9, 53200] loss: 0.110\n",
      "[9, 53400] loss: 0.070\n",
      "[9, 53600] loss: 0.246\n",
      "[9, 53800] loss: 0.013\n",
      "[9, 54000] loss: 0.064\n",
      "[10, 54200] loss: 0.040\n",
      "[10, 54400] loss: 0.013\n",
      "[10, 54600] loss: 0.012\n",
      "[10, 54800] loss: 0.137\n",
      "[10, 55000] loss: 0.005\n",
      "[10, 55200] loss: 0.171\n",
      "[10, 55400] loss: 0.021\n",
      "[10, 55600] loss: 0.010\n",
      "[10, 55800] loss: 0.004\n",
      "[10, 56000] loss: 0.194\n",
      "[10, 56200] loss: 0.248\n",
      "[10, 56400] loss: 0.068\n",
      "[10, 56600] loss: 0.018\n",
      "[10, 56800] loss: 0.036\n",
      "[10, 57000] loss: 0.007\n",
      "[10, 57200] loss: 0.219\n",
      "[10, 57400] loss: 0.009\n",
      "[10, 57600] loss: 0.007\n",
      "[10, 57800] loss: 0.005\n",
      "[10, 58000] loss: 0.020\n",
      "[10, 58200] loss: 0.003\n",
      "[10, 58400] loss: 0.079\n",
      "[10, 58600] loss: 0.013\n",
      "[10, 58800] loss: 0.340\n",
      "[10, 59000] loss: 0.004\n",
      "[10, 59200] loss: 0.007\n",
      "[10, 59400] loss: 0.070\n",
      "[10, 59600] loss: 0.072\n",
      "[10, 59800] loss: 0.087\n",
      "[10, 60000] loss: 0.004\n"
     ]
    }
   ],
   "source": [
    "my_loss = nn.CrossEntropyLoss() # Definition of the loss\n",
    "optimizer = torch.optim.SGD(net.parameters(), lr=0.01) # Stocastic Gradient Descent to optimize the parameter\n",
    "\n",
    "epoch = 10\n",
    "i = 0\n",
    "\n",
    "#### Useful quantities ####\n",
    "\n",
    "train_losses = []\n",
    "\n",
    "for ep in range(epoch):\n",
    "    net.train() # Function of torch that set the training phase\n",
    "\n",
    "    # For each data, we go though the data 10 times (10-by-10)\n",
    "    for data in train_loader: # train_loader all data devided in minibatches\n",
    "          i += 1\n",
    "          x, y = data\n",
    "\n",
    "          ### set zero grad on the optimizer\n",
    "          optimizer.zero_grad()\n",
    "          \n",
    "          ## compute output\n",
    "          output = net(x) # The evaluation of the net over the input\n",
    "\n",
    "          # compute the loss\n",
    "          loss = my_loss(output, y)\n",
    "\n",
    "          #compute the gradients\n",
    "          loss.backward() # Optimization step\n",
    "\n",
    "          # optimizer update\n",
    "          optimizer.step() \n",
    "\n",
    "          if i % 200 == 199:    # print every 10*200 = 2000 mini-batches\n",
    "              print('[%d, %5d] loss: %.3f' %\n",
    "                    (ep + 1, i + 1, loss.item()))\n",
    "              running_loss = 0.0\n",
    "              train_losses.append(loss.item())\n",
    "    # i = 0"
   ]
  },
  {
   "cell_type": "code",
   "execution_count": null,
   "metadata": {
    "colab": {
     "base_uri": "https://localhost:8080/",
     "height": 302
    },
    "id": "d53elrWQdaWj",
    "outputId": "435e7ee3-db19-471f-80f0-f324889f1f3b"
   },
   "outputs": [
    {
     "data": {
      "text/plain": [
       "Text(0, 0.5, 'Loss')"
      ]
     },
     "execution_count": 14,
     "metadata": {},
     "output_type": "execute_result"
    },
    {
     "data": {
      "image/png": "[encoded data removed]",
      "text/plain": [
       "<Figure size 640x480 with 1 Axes>"
      ]
     },
     "metadata": {},
     "output_type": "display_data"
    }
   ],
   "source": [
    "fig = plt.figure()\n",
    "plt.semilogy(range(len(train_losses)), train_losses, color='magenta')\n",
    "plt.legend(['Train Loss'], loc='upper right')\n",
    "plt.xlabel('Number of training examples seen')\n",
    "plt.ylabel('Loss')\n",
    "\n",
    "# The plot is such that because we have shuffle the data, so maybe he start to learn, but after\n",
    "# something change (like go to another number) and so is not quite good as before\n",
    "# BUT the important thing is that we can see a descent trend"
   ]
  },
  {
   "cell_type": "markdown",
   "metadata": {
    "id": "DqQJ4bEFoSb1"
   },
   "source": [
    "**Task 5**: let us check how accurate is the model and which classes perform better!"
   ]
  },
  {
   "cell_type": "code",
   "execution_count": null,
   "metadata": {
    "colab": {
     "base_uri": "https://localhost:8080/"
    },
    "id": "o3iBfOfdQdEr",
    "outputId": "86090c24-f317-41a3-bc8b-5b839cb281f6"
   },
   "outputs": [
    {
     "name": "stdout",
     "output_type": "stream",
     "text": [
      "Accuracy of the network on the 10000 test images: 96 %\n"
     ]
    }
   ],
   "source": [
    "correct = 0\n",
    "total = 0\n",
    "\n",
    "with torch.no_grad():\n",
    "    for data in test_loader:\n",
    "        x, y = data\n",
    "        output = net(x)\n",
    "        # print(output)\n",
    "        \n",
    "        for idx, i in enumerate(output):\n",
    "            # This is a prediction that is correct\n",
    "            if torch.argmax(i) == y[idx]:  #### idx indicates which sample I am taking from the mini-batch. The Output is a a vector of floats, the biggest is the one with higher probability\n",
    "                correct +=1\n",
    "            total +=1\n",
    "\n",
    "print('Accuracy of the network on the 10000 test images: %d %%' % (\n",
    "    100 * correct / total)) \n",
    "\n",
    "# The result is related to the entropy (loss) that we use\n",
    "# How we can decide the correct loss? "
   ]
  },
  {
   "cell_type": "code",
   "execution_count": 16,
   "metadata": {
    "colab": {
     "base_uri": "https://localhost:8080/",
     "height": 286
    },
    "id": "Ob7ru8GQRZyQ",
    "outputId": "42103df1-c322-4b88-92d6-b93cf6c77a6a"
   },
   "outputs": [
    {
     "data": {
      "image/png": "[encoded data removed]",
      "text/plain": [
       "<Figure size 640x480 with 1 Axes>"
      ]
     },
     "metadata": {},
     "output_type": "display_data"
    },
    {
     "name": "stdout",
     "output_type": "stream",
     "text": [
      "tensor(4)\n"
     ]
    }
   ],
   "source": [
    "plt.imshow(x[3].view(28, 28))\n",
    "plt.show()\n",
    "print(torch.argmax(net(x[3].view(-1, 784))[0]))"
   ]
  },
  {
   "cell_type": "code",
   "execution_count": null,
   "metadata": {
    "colab": {
     "base_uri": "https://localhost:8080/"
    },
    "id": "eeXzpDxCmuIK",
    "outputId": "6b3059cf-e609-430e-8596-3749f2ca2ae0"
   },
   "outputs": [
    {
     "name": "stdout",
     "output_type": "stream",
     "text": [
      "Accuracy of     0 : 98 %\n",
      "Accuracy of     1 : 98 %\n",
      "Accuracy of     2 : 96 %\n",
      "Accuracy of     3 : 96 %\n",
      "Accuracy of     4 : 95 %\n",
      "Accuracy of     5 : 95 %\n",
      "Accuracy of     6 : 97 %\n",
      "Accuracy of     7 : 96 %\n",
      "Accuracy of     8 : 97 %\n",
      "Accuracy of     9 : 96 %\n"
     ]
    }
   ],
   "source": [
    "# Compute the accuracy for each of the class to understand if some digits are well classified wrt the other\n",
    "class_correct = list(0. for i in range(10))\n",
    "class_total = list(0. for i in range(10))\n",
    "classes = ('0', '1', '2', '3',\n",
    "           '4', '5', '6', '7', '8', '9')\n",
    "\n",
    "with torch.no_grad():\n",
    "    for data in test_loader:\n",
    "        images, labels = data\n",
    "        images = images.reshape(-1, 784)\n",
    "        outputs = net(images)\n",
    "        _, predicted = torch.max(outputs, 1) ### returning the indices\n",
    "        c = (predicted == labels).squeeze()\n",
    "\n",
    "        for i in range(10):\n",
    "            label = labels[i]\n",
    "            class_correct[label] += c[i].item()\n",
    "            class_total[label] += 1\n",
    "\n",
    "\n",
    "for i in range(10): # Print the accuracy for each class\n",
    "    print('Accuracy of %5s : %2d %%' % (\n",
    "        classes[i], 100 * class_correct[i] / class_total[i]))"
   ]
  }
 ],
 "metadata": {
  "accelerator": "GPU",
  "colab": {
   "provenance": []
  },
  "kernelspec": {
   "display_name": "Python 3 (ipykernel)",
   "language": "python",
   "name": "python3"
  },
  "language_info": {
   "codemirror_mode": {
    "name": "ipython",
    "version": 3
   },
   "file_extension": ".py",
   "mimetype": "text/x-python",
   "name": "python",
   "nbconvert_exporter": "python",
   "pygments_lexer": "ipython3",
   "version": "3.10.12"
  },
  "toc-autonumbering": false,
  "widgets": {
   "application/vnd.jupyter.widget-state+json": {
    "0cc01af8dac945a38a21a2032cfc6071": {
     "model_module": "@jupyter-widgets/controls",
     "model_module_version": "1.5.0",
     "model_name": "FloatProgressModel",
     "state": {
      "_dom_classes": [],
      "_model_module": "@jupyter-widgets/controls",
      "_model_module_version": "1.5.0",
      "_model_name": "FloatProgressModel",
      "_view_count": null,
      "_view_module": "@jupyter-widgets/controls",
      "_view_module_version": "1.5.0",
      "_view_name": "ProgressView",
      "bar_style": "success",
      "description": "",
      "description_tooltip": null,
      "layout": "IPY_MODEL_11b083dbbf7745c8bb3ca859118c4be4",
      "max": 4542,
      "min": 0,
      "orientation": "horizontal",
      "style": "IPY_MODEL_8b5325f48e0a41709b72c2410a2fc3f8",
      "value": 4542
     }
    },
    "11b083dbbf7745c8bb3ca859118c4be4": {
     "model_module": "@jupyter-widgets/base",
     "model_module_version": "1.2.0",
     "model_name": "LayoutModel",
     "state": {
      "_model_module": "@jupyter-widgets/base",
      "_model_module_version": "1.2.0",
      "_model_name": "LayoutModel",
      "_view_count": null,
      "_view_module": "@jupyter-widgets/base",
      "_view_module_version": "1.2.0",
      "_view_name": "LayoutView",
      "align_content": null,
      "align_items": null,
      "align_self": null,
      "border": null,
      "bottom": null,
      "display": null,
      "flex": null,
      "flex_flow": null,
      "grid_area": null,
      "grid_auto_columns": null,
      "grid_auto_flow": null,
      "grid_auto_rows": null,
      "grid_column": null,
      "grid_gap": null,
      "grid_row": null,
      "grid_template_areas": null,
      "grid_template_columns": null,
      "grid_template_rows": null,
      "height": null,
      "justify_content": null,
      "justify_items": null,
      "left": null,
      "margin": null,
      "max_height": null,
      "max_width": null,
      "min_height": null,
      "min_width": null,
      "object_fit": null,
      "object_position": null,
      "order": null,
      "overflow": null,
      "overflow_x": null,
      "overflow_y": null,
      "padding": null,
      "right": null,
      "top": null,
      "visibility": null,
      "width": null
     }
    },
    "1675839658d649cb9e1e1949870db160": {
     "model_module": "@jupyter-widgets/base",
     "model_module_version": "1.2.0",
     "model_name": "LayoutModel",
     "state": {
      "_model_module": "@jupyter-widgets/base",
      "_model_module_version": "1.2.0",
      "_model_name": "LayoutModel",
      "_view_count": null,
      "_view_module": "@jupyter-widgets/base",
      "_view_module_version": "1.2.0",
      "_view_name": "LayoutView",
      "align_content": null,
      "align_items": null,
      "align_self": null,
      "border": null,
      "bottom": null,
      "display": null,
      "flex": null,
      "flex_flow": null,
      "grid_area": null,
      "grid_auto_columns": null,
      "grid_auto_flow": null,
      "grid_auto_rows": null,
      "grid_column": null,
      "grid_gap": null,
      "grid_row": null,
      "grid_template_areas": null,
      "grid_template_columns": null,
      "grid_template_rows": null,
      "height": null,
      "justify_content": null,
      "justify_items": null,
      "left": null,
      "margin": null,
      "max_height": null,
      "max_width": null,
      "min_height": null,
      "min_width": null,
      "object_fit": null,
      "object_position": null,
      "order": null,
      "overflow": null,
      "overflow_x": null,
      "overflow_y": null,
      "padding": null,
      "right": null,
      "top": null,
      "visibility": null,
      "width": null
     }
    },
    "20124f68c1e74c4bbf23dc1d9c793d19": {
     "model_module": "@jupyter-widgets/controls",
     "model_module_version": "1.5.0",
     "model_name": "FloatProgressModel",
     "state": {
      "_dom_classes": [],
      "_model_module": "@jupyter-widgets/controls",
      "_model_module_version": "1.5.0",
      "_model_name": "FloatProgressModel",
      "_view_count": null,
      "_view_module": "@jupyter-widgets/controls",
      "_view_module_version": "1.5.0",
      "_view_name": "ProgressView",
      "bar_style": "success",
      "description": "",
      "description_tooltip": null,
      "layout": "IPY_MODEL_3cc5da4562c147c7bb5e3552cd6fb3f1",
      "max": 1648877,
      "min": 0,
      "orientation": "horizontal",
      "style": "IPY_MODEL_25a161226ada41c9bf1e04838a4d36ca",
      "value": 1648877
     }
    },
    "23eb8e45f2614860b7e47e35a3e375ff": {
     "model_module": "@jupyter-widgets/base",
     "model_module_version": "1.2.0",
     "model_name": "LayoutModel",
     "state": {
      "_model_module": "@jupyter-widgets/base",
      "_model_module_version": "1.2.0",
      "_model_name": "LayoutModel",
      "_view_count": null,
      "_view_module": "@jupyter-widgets/base",
      "_view_module_version": "1.2.0",
      "_view_name": "LayoutView",
      "align_content": null,
      "align_items": null,
      "align_self": null,
      "border": null,
      "bottom": null,
      "display": null,
      "flex": null,
      "flex_flow": null,
      "grid_area": null,
      "grid_auto_columns": null,
      "grid_auto_flow": null,
      "grid_auto_rows": null,
      "grid_column": null,
      "grid_gap": null,
      "grid_row": null,
      "grid_template_areas": null,
      "grid_template_columns": null,
      "grid_template_rows": null,
      "height": null,
      "justify_content": null,
      "justify_items": null,
      "left": null,
      "margin": null,
      "max_height": null,
      "max_width": null,
      "min_height": null,
      "min_width": null,
      "object_fit": null,
      "object_position": null,
      "order": null,
      "overflow": null,
      "overflow_x": null,
      "overflow_y": null,
      "padding": null,
      "right": null,
      "top": null,
      "visibility": null,
      "width": null
     }
    },
    "25a161226ada41c9bf1e04838a4d36ca": {
     "model_module": "@jupyter-widgets/controls",
     "model_module_version": "1.5.0",
     "model_name": "ProgressStyleModel",
     "state": {
      "_model_module": "@jupyter-widgets/controls",
      "_model_module_version": "1.5.0",
      "_model_name": "ProgressStyleModel",
      "_view_count": null,
      "_view_module": "@jupyter-widgets/base",
      "_view_module_version": "1.2.0",
      "_view_name": "StyleView",
      "bar_color": null,
      "description_width": ""
     }
    },
    "274cee134e6c487488ac79b11d9a60ac": {
     "model_module": "@jupyter-widgets/controls",
     "model_module_version": "1.5.0",
     "model_name": "HTMLModel",
     "state": {
      "_dom_classes": [],
      "_model_module": "@jupyter-widgets/controls",
      "_model_module_version": "1.5.0",
      "_model_name": "HTMLModel",
      "_view_count": null,
      "_view_module": "@jupyter-widgets/controls",
      "_view_module_version": "1.5.0",
      "_view_name": "HTMLView",
      "description": "",
      "description_tooltip": null,
      "layout": "IPY_MODEL_7208970c86204b13825847dd3d91a85b",
      "placeholder": "​",
      "style": "IPY_MODEL_89fd833031ef49f28343942d209c084c",
      "value": " 1648877/1648877 [00:00&lt;00:00, 19606034.41it/s]"
     }
    },
    "288484ac3ead4944af27bec919ca390b": {
     "model_module": "@jupyter-widgets/base",
     "model_module_version": "1.2.0",
     "model_name": "LayoutModel",
     "state": {
      "_model_module": "@jupyter-widgets/base",
      "_model_module_version": "1.2.0",
      "_model_name": "LayoutModel",
      "_view_count": null,
      "_view_module": "@jupyter-widgets/base",
      "_view_module_version": "1.2.0",
      "_view_name": "LayoutView",
      "align_content": null,
      "align_items": null,
      "align_self": null,
      "border": null,
      "bottom": null,
      "display": null,
      "flex": null,
      "flex_flow": null,
      "grid_area": null,
      "grid_auto_columns": null,
      "grid_auto_flow": null,
      "grid_auto_rows": null,
      "grid_column": null,
      "grid_gap": null,
      "grid_row": null,
      "grid_template_areas": null,
      "grid_template_columns": null,
      "grid_template_rows": null,
      "height": null,
      "justify_content": null,
      "justify_items": null,
      "left": null,
      "margin": null,
      "max_height": null,
      "max_width": null,
      "min_height": null,
      "min_width": null,
      "object_fit": null,
      "object_position": null,
      "order": null,
      "overflow": null,
      "overflow_x": null,
      "overflow_y": null,
      "padding": null,
      "right": null,
      "top": null,
      "visibility": null,
      "width": null
     }
    },
    "2c08243147cd4c98972ec52212346529": {
     "model_module": "@jupyter-widgets/controls",
     "model_module_version": "1.5.0",
     "model_name": "HBoxModel",
     "state": {
      "_dom_classes": [],
      "_model_module": "@jupyter-widgets/controls",
      "_model_module_version": "1.5.0",
      "_model_name": "HBoxModel",
      "_view_count": null,
      "_view_module": "@jupyter-widgets/controls",
      "_view_module_version": "1.5.0",
      "_view_name": "HBoxView",
      "box_style": "",
      "children": [
       "IPY_MODEL_56965fe24e5045cb871b109cc311cf32",
       "IPY_MODEL_20124f68c1e74c4bbf23dc1d9c793d19",
       "IPY_MODEL_274cee134e6c487488ac79b11d9a60ac"
      ],
      "layout": "IPY_MODEL_da8154cd7fd74d9cb6482ffd14c63001"
     }
    },
    "35b6d6b938994aa5a37b6b7a8239f536": {
     "model_module": "@jupyter-widgets/controls",
     "model_module_version": "1.5.0",
     "model_name": "DescriptionStyleModel",
     "state": {
      "_model_module": "@jupyter-widgets/controls",
      "_model_module_version": "1.5.0",
      "_model_name": "DescriptionStyleModel",
      "_view_count": null,
      "_view_module": "@jupyter-widgets/base",
      "_view_module_version": "1.2.0",
      "_view_name": "StyleView",
      "description_width": ""
     }
    },
    "3a2f986d087046adb7695051e43dd0b7": {
     "model_module": "@jupyter-widgets/base",
     "model_module_version": "1.2.0",
     "model_name": "LayoutModel",
     "state": {
      "_model_module": "@jupyter-widgets/base",
      "_model_module_version": "1.2.0",
      "_model_name": "LayoutModel",
      "_view_count": null,
      "_view_module": "@jupyter-widgets/base",
      "_view_module_version": "1.2.0",
      "_view_name": "LayoutView",
      "align_content": null,
      "align_items": null,
      "align_self": null,
      "border": null,
      "bottom": null,
      "display": null,
      "flex": null,
      "flex_flow": null,
      "grid_area": null,
      "grid_auto_columns": null,
      "grid_auto_flow": null,
      "grid_auto_rows": null,
      "grid_column": null,
      "grid_gap": null,
      "grid_row": null,
      "grid_template_areas": null,
      "grid_template_columns": null,
      "grid_template_rows": null,
      "height": null,
      "justify_content": null,
      "justify_items": null,
      "left": null,
      "margin": null,
      "max_height": null,
      "max_width": null,
      "min_height": null,
      "min_width": null,
      "object_fit": null,
      "object_position": null,
      "order": null,
      "overflow": null,
      "overflow_x": null,
      "overflow_y": null,
      "padding": null,
      "right": null,
      "top": null,
      "visibility": null,
      "width": null
     }
    },
    "3cc5da4562c147c7bb5e3552cd6fb3f1": {
     "model_module": "@jupyter-widgets/base",
     "model_module_version": "1.2.0",
     "model_name": "LayoutModel",
     "state": {
      "_model_module": "@jupyter-widgets/base",
      "_model_module_version": "1.2.0",
      "_model_name": "LayoutModel",
      "_view_count": null,
      "_view_module": "@jupyter-widgets/base",
      "_view_module_version": "1.2.0",
      "_view_name": "LayoutView",
      "align_content": null,
      "align_items": null,
      "align_self": null,
      "border": null,
      "bottom": null,
      "display": null,
      "flex": null,
      "flex_flow": null,
      "grid_area": null,
      "grid_auto_columns": null,
      "grid_auto_flow": null,
      "grid_auto_rows": null,
      "grid_column": null,
      "grid_gap": null,
      "grid_row": null,
      "grid_template_areas": null,
      "grid_template_columns": null,
      "grid_template_rows": null,
      "height": null,
      "justify_content": null,
      "justify_items": null,
      "left": null,
      "margin": null,
      "max_height": null,
      "max_width": null,
      "min_height": null,
      "min_width": null,
      "object_fit": null,
      "object_position": null,
      "order": null,
      "overflow": null,
      "overflow_x": null,
      "overflow_y": null,
      "padding": null,
      "right": null,
      "top": null,
      "visibility": null,
      "width": null
     }
    },
    "3f5ac9761f444cd59cd83d9931646fb7": {
     "model_module": "@jupyter-widgets/controls",
     "model_module_version": "1.5.0",
     "model_name": "HTMLModel",
     "state": {
      "_dom_classes": [],
      "_model_module": "@jupyter-widgets/controls",
      "_model_module_version": "1.5.0",
      "_model_name": "HTMLModel",
      "_view_count": null,
      "_view_module": "@jupyter-widgets/controls",
      "_view_module_version": "1.5.0",
      "_view_name": "HTMLView",
      "description": "",
      "description_tooltip": null,
      "layout": "IPY_MODEL_81436e4be1dc4761ba52eaa8f1e2a27d",
      "placeholder": "​",
      "style": "IPY_MODEL_9d74d0b981a44b12a846467cb14fc965",
      "value": "100%"
     }
    },
    "53e5c4d4f9114cbf9ee97690cd8229b5": {
     "model_module": "@jupyter-widgets/base",
     "model_module_version": "1.2.0",
     "model_name": "LayoutModel",
     "state": {
      "_model_module": "@jupyter-widgets/base",
      "_model_module_version": "1.2.0",
      "_model_name": "LayoutModel",
      "_view_count": null,
      "_view_module": "@jupyter-widgets/base",
      "_view_module_version": "1.2.0",
      "_view_name": "LayoutView",
      "align_content": null,
      "align_items": null,
      "align_self": null,
      "border": null,
      "bottom": null,
      "display": null,
      "flex": null,
      "flex_flow": null,
      "grid_area": null,
      "grid_auto_columns": null,
      "grid_auto_flow": null,
      "grid_auto_rows": null,
      "grid_column": null,
      "grid_gap": null,
      "grid_row": null,
      "grid_template_areas": null,
      "grid_template_columns": null,
      "grid_template_rows": null,
      "height": null,
      "justify_content": null,
      "justify_items": null,
      "left": null,
      "margin": null,
      "max_height": null,
      "max_width": null,
      "min_height": null,
      "min_width": null,
      "object_fit": null,
      "object_position": null,
      "order": null,
      "overflow": null,
      "overflow_x": null,
      "overflow_y": null,
      "padding": null,
      "right": null,
      "top": null,
      "visibility": null,
      "width": null
     }
    },
    "5531c26705ea41f38cd128c8c139318a": {
     "model_module": "@jupyter-widgets/base",
     "model_module_version": "1.2.0",
     "model_name": "LayoutModel",
     "state": {
      "_model_module": "@jupyter-widgets/base",
      "_model_module_version": "1.2.0",
      "_model_name": "LayoutModel",
      "_view_count": null,
      "_view_module": "@jupyter-widgets/base",
      "_view_module_version": "1.2.0",
      "_view_name": "LayoutView",
      "align_content": null,
      "align_items": null,
      "align_self": null,
      "border": null,
      "bottom": null,
      "display": null,
      "flex": null,
      "flex_flow": null,
      "grid_area": null,
      "grid_auto_columns": null,
      "grid_auto_flow": null,
      "grid_auto_rows": null,
      "grid_column": null,
      "grid_gap": null,
      "grid_row": null,
      "grid_template_areas": null,
      "grid_template_columns": null,
      "grid_template_rows": null,
      "height": null,
      "justify_content": null,
      "justify_items": null,
      "left": null,
      "margin": null,
      "max_height": null,
      "max_width": null,
      "min_height": null,
      "min_width": null,
      "object_fit": null,
      "object_position": null,
      "order": null,
      "overflow": null,
      "overflow_x": null,
      "overflow_y": null,
      "padding": null,
      "right": null,
      "top": null,
      "visibility": null,
      "width": null
     }
    },
    "56965fe24e5045cb871b109cc311cf32": {
     "model_module": "@jupyter-widgets/controls",
     "model_module_version": "1.5.0",
     "model_name": "HTMLModel",
     "state": {
      "_dom_classes": [],
      "_model_module": "@jupyter-widgets/controls",
      "_model_module_version": "1.5.0",
      "_model_name": "HTMLModel",
      "_view_count": null,
      "_view_module": "@jupyter-widgets/controls",
      "_view_module_version": "1.5.0",
      "_view_name": "HTMLView",
      "description": "",
      "description_tooltip": null,
      "layout": "IPY_MODEL_3a2f986d087046adb7695051e43dd0b7",
      "placeholder": "​",
      "style": "IPY_MODEL_9e6ee837fb2d4651a56e551de14c8667",
      "value": "100%"
     }
    },
    "5f25701b59774b86af4a69c3d41d6d86": {
     "model_module": "@jupyter-widgets/base",
     "model_module_version": "1.2.0",
     "model_name": "LayoutModel",
     "state": {
      "_model_module": "@jupyter-widgets/base",
      "_model_module_version": "1.2.0",
      "_model_name": "LayoutModel",
      "_view_count": null,
      "_view_module": "@jupyter-widgets/base",
      "_view_module_version": "1.2.0",
      "_view_name": "LayoutView",
      "align_content": null,
      "align_items": null,
      "align_self": null,
      "border": null,
      "bottom": null,
      "display": null,
      "flex": null,
      "flex_flow": null,
      "grid_area": null,
      "grid_auto_columns": null,
      "grid_auto_flow": null,
      "grid_auto_rows": null,
      "grid_column": null,
      "grid_gap": null,
      "grid_row": null,
      "grid_template_areas": null,
      "grid_template_columns": null,
      "grid_template_rows": null,
      "height": null,
      "justify_content": null,
      "justify_items": null,
      "left": null,
      "margin": null,
      "max_height": null,
      "max_width": null,
      "min_height": null,
      "min_width": null,
      "object_fit": null,
      "object_position": null,
      "order": null,
      "overflow": null,
      "overflow_x": null,
      "overflow_y": null,
      "padding": null,
      "right": null,
      "top": null,
      "visibility": null,
      "width": null
     }
    },
    "617bc35009794224b24cfa08b52bf802": {
     "model_module": "@jupyter-widgets/controls",
     "model_module_version": "1.5.0",
     "model_name": "ProgressStyleModel",
     "state": {
      "_model_module": "@jupyter-widgets/controls",
      "_model_module_version": "1.5.0",
      "_model_name": "ProgressStyleModel",
      "_view_count": null,
      "_view_module": "@jupyter-widgets/base",
      "_view_module_version": "1.2.0",
      "_view_name": "StyleView",
      "bar_color": null,
      "description_width": ""
     }
    },
    "62a304e3ae784089a23736a68ff238f8": {
     "model_module": "@jupyter-widgets/controls",
     "model_module_version": "1.5.0",
     "model_name": "DescriptionStyleModel",
     "state": {
      "_model_module": "@jupyter-widgets/controls",
      "_model_module_version": "1.5.0",
      "_model_name": "DescriptionStyleModel",
      "_view_count": null,
      "_view_module": "@jupyter-widgets/base",
      "_view_module_version": "1.2.0",
      "_view_name": "StyleView",
      "description_width": ""
     }
    },
    "69a869757cf243ca966713f08901217b": {
     "model_module": "@jupyter-widgets/base",
     "model_module_version": "1.2.0",
     "model_name": "LayoutModel",
     "state": {
      "_model_module": "@jupyter-widgets/base",
      "_model_module_version": "1.2.0",
      "_model_name": "LayoutModel",
      "_view_count": null,
      "_view_module": "@jupyter-widgets/base",
      "_view_module_version": "1.2.0",
      "_view_name": "LayoutView",
      "align_content": null,
      "align_items": null,
      "align_self": null,
      "border": null,
      "bottom": null,
      "display": null,
      "flex": null,
      "flex_flow": null,
      "grid_area": null,
      "grid_auto_columns": null,
      "grid_auto_flow": null,
      "grid_auto_rows": null,
      "grid_column": null,
      "grid_gap": null,
      "grid_row": null,
      "grid_template_areas": null,
      "grid_template_columns": null,
      "grid_template_rows": null,
      "height": null,
      "justify_content": null,
      "justify_items": null,
      "left": null,
      "margin": null,
      "max_height": null,
      "max_width": null,
      "min_height": null,
      "min_width": null,
      "object_fit": null,
      "object_position": null,
      "order": null,
      "overflow": null,
      "overflow_x": null,
      "overflow_y": null,
      "padding": null,
      "right": null,
      "top": null,
      "visibility": null,
      "width": null
     }
    },
    "7208970c86204b13825847dd3d91a85b": {
     "model_module": "@jupyter-widgets/base",
     "model_module_version": "1.2.0",
     "model_name": "LayoutModel",
     "state": {
      "_model_module": "@jupyter-widgets/base",
      "_model_module_version": "1.2.0",
      "_model_name": "LayoutModel",
      "_view_count": null,
      "_view_module": "@jupyter-widgets/base",
      "_view_module_version": "1.2.0",
      "_view_name": "LayoutView",
      "align_content": null,
      "align_items": null,
      "align_self": null,
      "border": null,
      "bottom": null,
      "display": null,
      "flex": null,
      "flex_flow": null,
      "grid_area": null,
      "grid_auto_columns": null,
      "grid_auto_flow": null,
      "grid_auto_rows": null,
      "grid_column": null,
      "grid_gap": null,
      "grid_row": null,
      "grid_template_areas": null,
      "grid_template_columns": null,
      "grid_template_rows": null,
      "height": null,
      "justify_content": null,
      "justify_items": null,
      "left": null,
      "margin": null,
      "max_height": null,
      "max_width": null,
      "min_height": null,
      "min_width": null,
      "object_fit": null,
      "object_position": null,
      "order": null,
      "overflow": null,
      "overflow_x": null,
      "overflow_y": null,
      "padding": null,
      "right": null,
      "top": null,
      "visibility": null,
      "width": null
     }
    },
    "81436e4be1dc4761ba52eaa8f1e2a27d": {
     "model_module": "@jupyter-widgets/base",
     "model_module_version": "1.2.0",
     "model_name": "LayoutModel",
     "state": {
      "_model_module": "@jupyter-widgets/base",
      "_model_module_version": "1.2.0",
      "_model_name": "LayoutModel",
      "_view_count": null,
      "_view_module": "@jupyter-widgets/base",
      "_view_module_version": "1.2.0",
      "_view_name": "LayoutView",
      "align_content": null,
      "align_items": null,
      "align_self": null,
      "border": null,
      "bottom": null,
      "display": null,
      "flex": null,
      "flex_flow": null,
      "grid_area": null,
      "grid_auto_columns": null,
      "grid_auto_flow": null,
      "grid_auto_rows": null,
      "grid_column": null,
      "grid_gap": null,
      "grid_row": null,
      "grid_template_areas": null,
      "grid_template_columns": null,
      "grid_template_rows": null,
      "height": null,
      "justify_content": null,
      "justify_items": null,
      "left": null,
      "margin": null,
      "max_height": null,
      "max_width": null,
      "min_height": null,
      "min_width": null,
      "object_fit": null,
      "object_position": null,
      "order": null,
      "overflow": null,
      "overflow_x": null,
      "overflow_y": null,
      "padding": null,
      "right": null,
      "top": null,
      "visibility": null,
      "width": null
     }
    },
    "89fd833031ef49f28343942d209c084c": {
     "model_module": "@jupyter-widgets/controls",
     "model_module_version": "1.5.0",
     "model_name": "DescriptionStyleModel",
     "state": {
      "_model_module": "@jupyter-widgets/controls",
      "_model_module_version": "1.5.0",
      "_model_name": "DescriptionStyleModel",
      "_view_count": null,
      "_view_module": "@jupyter-widgets/base",
      "_view_module_version": "1.2.0",
      "_view_name": "StyleView",
      "description_width": ""
     }
    },
    "8a5bcbe762964687a4cd796f599a6e27": {
     "model_module": "@jupyter-widgets/controls",
     "model_module_version": "1.5.0",
     "model_name": "HBoxModel",
     "state": {
      "_dom_classes": [],
      "_model_module": "@jupyter-widgets/controls",
      "_model_module_version": "1.5.0",
      "_model_name": "HBoxModel",
      "_view_count": null,
      "_view_module": "@jupyter-widgets/controls",
      "_view_module_version": "1.5.0",
      "_view_name": "HBoxView",
      "box_style": "",
      "children": [
       "IPY_MODEL_3f5ac9761f444cd59cd83d9931646fb7",
       "IPY_MODEL_aaf2813a41cf4b30850e1b51d5252249",
       "IPY_MODEL_f93440202a2343e5ab31b918506366a8"
      ],
      "layout": "IPY_MODEL_23eb8e45f2614860b7e47e35a3e375ff"
     }
    },
    "8b5325f48e0a41709b72c2410a2fc3f8": {
     "model_module": "@jupyter-widgets/controls",
     "model_module_version": "1.5.0",
     "model_name": "ProgressStyleModel",
     "state": {
      "_model_module": "@jupyter-widgets/controls",
      "_model_module_version": "1.5.0",
      "_model_name": "ProgressStyleModel",
      "_view_count": null,
      "_view_module": "@jupyter-widgets/base",
      "_view_module_version": "1.2.0",
      "_view_name": "StyleView",
      "bar_color": null,
      "description_width": ""
     }
    },
    "8d36f2cfbd5a49d6a530f664faff8ab8": {
     "model_module": "@jupyter-widgets/base",
     "model_module_version": "1.2.0",
     "model_name": "LayoutModel",
     "state": {
      "_model_module": "@jupyter-widgets/base",
      "_model_module_version": "1.2.0",
      "_model_name": "LayoutModel",
      "_view_count": null,
      "_view_module": "@jupyter-widgets/base",
      "_view_module_version": "1.2.0",
      "_view_name": "LayoutView",
      "align_content": null,
      "align_items": null,
      "align_self": null,
      "border": null,
      "bottom": null,
      "display": null,
      "flex": null,
      "flex_flow": null,
      "grid_area": null,
      "grid_auto_columns": null,
      "grid_auto_flow": null,
      "grid_auto_rows": null,
      "grid_column": null,
      "grid_gap": null,
      "grid_row": null,
      "grid_template_areas": null,
      "grid_template_columns": null,
      "grid_template_rows": null,
      "height": null,
      "justify_content": null,
      "justify_items": null,
      "left": null,
      "margin": null,
      "max_height": null,
      "max_width": null,
      "min_height": null,
      "min_width": null,
      "object_fit": null,
      "object_position": null,
      "order": null,
      "overflow": null,
      "overflow_x": null,
      "overflow_y": null,
      "padding": null,
      "right": null,
      "top": null,
      "visibility": null,
      "width": null
     }
    },
    "8dd74f29a23a4847897602268ef3400f": {
     "model_module": "@jupyter-widgets/controls",
     "model_module_version": "1.5.0",
     "model_name": "ProgressStyleModel",
     "state": {
      "_model_module": "@jupyter-widgets/controls",
      "_model_module_version": "1.5.0",
      "_model_name": "ProgressStyleModel",
      "_view_count": null,
      "_view_module": "@jupyter-widgets/base",
      "_view_module_version": "1.2.0",
      "_view_name": "StyleView",
      "bar_color": null,
      "description_width": ""
     }
    },
    "9769f08d30164cf2afc48c703955ba42": {
     "model_module": "@jupyter-widgets/controls",
     "model_module_version": "1.5.0",
     "model_name": "DescriptionStyleModel",
     "state": {
      "_model_module": "@jupyter-widgets/controls",
      "_model_module_version": "1.5.0",
      "_model_name": "DescriptionStyleModel",
      "_view_count": null,
      "_view_module": "@jupyter-widgets/base",
      "_view_module_version": "1.2.0",
      "_view_name": "StyleView",
      "description_width": ""
     }
    },
    "9a1c8c0e906f4c9b8c61f8756cdb72b2": {
     "model_module": "@jupyter-widgets/base",
     "model_module_version": "1.2.0",
     "model_name": "LayoutModel",
     "state": {
      "_model_module": "@jupyter-widgets/base",
      "_model_module_version": "1.2.0",
      "_model_name": "LayoutModel",
      "_view_count": null,
      "_view_module": "@jupyter-widgets/base",
      "_view_module_version": "1.2.0",
      "_view_name": "LayoutView",
      "align_content": null,
      "align_items": null,
      "align_self": null,
      "border": null,
      "bottom": null,
      "display": null,
      "flex": null,
      "flex_flow": null,
      "grid_area": null,
      "grid_auto_columns": null,
      "grid_auto_flow": null,
      "grid_auto_rows": null,
      "grid_column": null,
      "grid_gap": null,
      "grid_row": null,
      "grid_template_areas": null,
      "grid_template_columns": null,
      "grid_template_rows": null,
      "height": null,
      "justify_content": null,
      "justify_items": null,
      "left": null,
      "margin": null,
      "max_height": null,
      "max_width": null,
      "min_height": null,
      "min_width": null,
      "object_fit": null,
      "object_position": null,
      "order": null,
      "overflow": null,
      "overflow_x": null,
      "overflow_y": null,
      "padding": null,
      "right": null,
      "top": null,
      "visibility": null,
      "width": null
     }
    },
    "9d74d0b981a44b12a846467cb14fc965": {
     "model_module": "@jupyter-widgets/controls",
     "model_module_version": "1.5.0",
     "model_name": "DescriptionStyleModel",
     "state": {
      "_model_module": "@jupyter-widgets/controls",
      "_model_module_version": "1.5.0",
      "_model_name": "DescriptionStyleModel",
      "_view_count": null,
      "_view_module": "@jupyter-widgets/base",
      "_view_module_version": "1.2.0",
      "_view_name": "StyleView",
      "description_width": ""
     }
    },
    "9e6ee837fb2d4651a56e551de14c8667": {
     "model_module": "@jupyter-widgets/controls",
     "model_module_version": "1.5.0",
     "model_name": "DescriptionStyleModel",
     "state": {
      "_model_module": "@jupyter-widgets/controls",
      "_model_module_version": "1.5.0",
      "_model_name": "DescriptionStyleModel",
      "_view_count": null,
      "_view_module": "@jupyter-widgets/base",
      "_view_module_version": "1.2.0",
      "_view_name": "StyleView",
      "description_width": ""
     }
    },
    "9fe2dafd7e0e4fca8bbac40aad763f34": {
     "model_module": "@jupyter-widgets/controls",
     "model_module_version": "1.5.0",
     "model_name": "HTMLModel",
     "state": {
      "_dom_classes": [],
      "_model_module": "@jupyter-widgets/controls",
      "_model_module_version": "1.5.0",
      "_model_name": "HTMLModel",
      "_view_count": null,
      "_view_module": "@jupyter-widgets/controls",
      "_view_module_version": "1.5.0",
      "_view_name": "HTMLView",
      "description": "",
      "description_tooltip": null,
      "layout": "IPY_MODEL_53e5c4d4f9114cbf9ee97690cd8229b5",
      "placeholder": "​",
      "style": "IPY_MODEL_62a304e3ae784089a23736a68ff238f8",
      "value": "100%"
     }
    },
    "a9b21a7cc4b0450fae69e5d2fe320d17": {
     "model_module": "@jupyter-widgets/controls",
     "model_module_version": "1.5.0",
     "model_name": "HBoxModel",
     "state": {
      "_dom_classes": [],
      "_model_module": "@jupyter-widgets/controls",
      "_model_module_version": "1.5.0",
      "_model_name": "HBoxModel",
      "_view_count": null,
      "_view_module": "@jupyter-widgets/controls",
      "_view_module_version": "1.5.0",
      "_view_name": "HBoxView",
      "box_style": "",
      "children": [
       "IPY_MODEL_9fe2dafd7e0e4fca8bbac40aad763f34",
       "IPY_MODEL_e4440137d32342af8b73d6426d3a9612",
       "IPY_MODEL_c7b4a66d57b7480baa70a85f378c5291"
      ],
      "layout": "IPY_MODEL_9a1c8c0e906f4c9b8c61f8756cdb72b2"
     }
    },
    "aaf2813a41cf4b30850e1b51d5252249": {
     "model_module": "@jupyter-widgets/controls",
     "model_module_version": "1.5.0",
     "model_name": "FloatProgressModel",
     "state": {
      "_dom_classes": [],
      "_model_module": "@jupyter-widgets/controls",
      "_model_module_version": "1.5.0",
      "_model_name": "FloatProgressModel",
      "_view_count": null,
      "_view_module": "@jupyter-widgets/controls",
      "_view_module_version": "1.5.0",
      "_view_name": "ProgressView",
      "bar_style": "success",
      "description": "",
      "description_tooltip": null,
      "layout": "IPY_MODEL_8d36f2cfbd5a49d6a530f664faff8ab8",
      "max": 28881,
      "min": 0,
      "orientation": "horizontal",
      "style": "IPY_MODEL_8dd74f29a23a4847897602268ef3400f",
      "value": 28881
     }
    },
    "c0800af8023e4e399803257b722f89fe": {
     "model_module": "@jupyter-widgets/controls",
     "model_module_version": "1.5.0",
     "model_name": "HTMLModel",
     "state": {
      "_dom_classes": [],
      "_model_module": "@jupyter-widgets/controls",
      "_model_module_version": "1.5.0",
      "_model_name": "HTMLModel",
      "_view_count": null,
      "_view_module": "@jupyter-widgets/controls",
      "_view_module_version": "1.5.0",
      "_view_name": "HTMLView",
      "description": "",
      "description_tooltip": null,
      "layout": "IPY_MODEL_1675839658d649cb9e1e1949870db160",
      "placeholder": "​",
      "style": "IPY_MODEL_35b6d6b938994aa5a37b6b7a8239f536",
      "value": " 4542/4542 [00:00&lt;00:00, 222500.92it/s]"
     }
    },
    "c1a581cbf4f0414b87557e94fa968df7": {
     "model_module": "@jupyter-widgets/controls",
     "model_module_version": "1.5.0",
     "model_name": "DescriptionStyleModel",
     "state": {
      "_model_module": "@jupyter-widgets/controls",
      "_model_module_version": "1.5.0",
      "_model_name": "DescriptionStyleModel",
      "_view_count": null,
      "_view_module": "@jupyter-widgets/base",
      "_view_module_version": "1.2.0",
      "_view_name": "StyleView",
      "description_width": ""
     }
    },
    "c2b8e79eacee4ca78425e87b176b8755": {
     "model_module": "@jupyter-widgets/controls",
     "model_module_version": "1.5.0",
     "model_name": "HTMLModel",
     "state": {
      "_dom_classes": [],
      "_model_module": "@jupyter-widgets/controls",
      "_model_module_version": "1.5.0",
      "_model_name": "HTMLModel",
      "_view_count": null,
      "_view_module": "@jupyter-widgets/controls",
      "_view_module_version": "1.5.0",
      "_view_name": "HTMLView",
      "description": "",
      "description_tooltip": null,
      "layout": "IPY_MODEL_288484ac3ead4944af27bec919ca390b",
      "placeholder": "​",
      "style": "IPY_MODEL_e1661288ed284ed5a823a7efb44ad374",
      "value": "100%"
     }
    },
    "c7b4a66d57b7480baa70a85f378c5291": {
     "model_module": "@jupyter-widgets/controls",
     "model_module_version": "1.5.0",
     "model_name": "HTMLModel",
     "state": {
      "_dom_classes": [],
      "_model_module": "@jupyter-widgets/controls",
      "_model_module_version": "1.5.0",
      "_model_name": "HTMLModel",
      "_view_count": null,
      "_view_module": "@jupyter-widgets/controls",
      "_view_module_version": "1.5.0",
      "_view_name": "HTMLView",
      "description": "",
      "description_tooltip": null,
      "layout": "IPY_MODEL_ea19f279d6ca431aa6e3ac94fa25de96",
      "placeholder": "​",
      "style": "IPY_MODEL_c1a581cbf4f0414b87557e94fa968df7",
      "value": " 9912422/9912422 [00:00&lt;00:00, 35996687.74it/s]"
     }
    },
    "d0b4d9062fca47dcbed7ee5863d7be14": {
     "model_module": "@jupyter-widgets/controls",
     "model_module_version": "1.5.0",
     "model_name": "HBoxModel",
     "state": {
      "_dom_classes": [],
      "_model_module": "@jupyter-widgets/controls",
      "_model_module_version": "1.5.0",
      "_model_name": "HBoxModel",
      "_view_count": null,
      "_view_module": "@jupyter-widgets/controls",
      "_view_module_version": "1.5.0",
      "_view_name": "HBoxView",
      "box_style": "",
      "children": [
       "IPY_MODEL_c2b8e79eacee4ca78425e87b176b8755",
       "IPY_MODEL_0cc01af8dac945a38a21a2032cfc6071",
       "IPY_MODEL_c0800af8023e4e399803257b722f89fe"
      ],
      "layout": "IPY_MODEL_5531c26705ea41f38cd128c8c139318a"
     }
    },
    "da8154cd7fd74d9cb6482ffd14c63001": {
     "model_module": "@jupyter-widgets/base",
     "model_module_version": "1.2.0",
     "model_name": "LayoutModel",
     "state": {
      "_model_module": "@jupyter-widgets/base",
      "_model_module_version": "1.2.0",
      "_model_name": "LayoutModel",
      "_view_count": null,
      "_view_module": "@jupyter-widgets/base",
      "_view_module_version": "1.2.0",
      "_view_name": "LayoutView",
      "align_content": null,
      "align_items": null,
      "align_self": null,
      "border": null,
      "bottom": null,
      "display": null,
      "flex": null,
      "flex_flow": null,
      "grid_area": null,
      "grid_auto_columns": null,
      "grid_auto_flow": null,
      "grid_auto_rows": null,
      "grid_column": null,
      "grid_gap": null,
      "grid_row": null,
      "grid_template_areas": null,
      "grid_template_columns": null,
      "grid_template_rows": null,
      "height": null,
      "justify_content": null,
      "justify_items": null,
      "left": null,
      "margin": null,
      "max_height": null,
      "max_width": null,
      "min_height": null,
      "min_width": null,
      "object_fit": null,
      "object_position": null,
      "order": null,
      "overflow": null,
      "overflow_x": null,
      "overflow_y": null,
      "padding": null,
      "right": null,
      "top": null,
      "visibility": null,
      "width": null
     }
    },
    "e1661288ed284ed5a823a7efb44ad374": {
     "model_module": "@jupyter-widgets/controls",
     "model_module_version": "1.5.0",
     "model_name": "DescriptionStyleModel",
     "state": {
      "_model_module": "@jupyter-widgets/controls",
      "_model_module_version": "1.5.0",
      "_model_name": "DescriptionStyleModel",
      "_view_count": null,
      "_view_module": "@jupyter-widgets/base",
      "_view_module_version": "1.2.0",
      "_view_name": "StyleView",
      "description_width": ""
     }
    },
    "e4440137d32342af8b73d6426d3a9612": {
     "model_module": "@jupyter-widgets/controls",
     "model_module_version": "1.5.0",
     "model_name": "FloatProgressModel",
     "state": {
      "_dom_classes": [],
      "_model_module": "@jupyter-widgets/controls",
      "_model_module_version": "1.5.0",
      "_model_name": "FloatProgressModel",
      "_view_count": null,
      "_view_module": "@jupyter-widgets/controls",
      "_view_module_version": "1.5.0",
      "_view_name": "ProgressView",
      "bar_style": "success",
      "description": "",
      "description_tooltip": null,
      "layout": "IPY_MODEL_5f25701b59774b86af4a69c3d41d6d86",
      "max": 9912422,
      "min": 0,
      "orientation": "horizontal",
      "style": "IPY_MODEL_617bc35009794224b24cfa08b52bf802",
      "value": 9912422
     }
    },
    "ea19f279d6ca431aa6e3ac94fa25de96": {
     "model_module": "@jupyter-widgets/base",
     "model_module_version": "1.2.0",
     "model_name": "LayoutModel",
     "state": {
      "_model_module": "@jupyter-widgets/base",
      "_model_module_version": "1.2.0",
      "_model_name": "LayoutModel",
      "_view_count": null,
      "_view_module": "@jupyter-widgets/base",
      "_view_module_version": "1.2.0",
      "_view_name": "LayoutView",
      "align_content": null,
      "align_items": null,
      "align_self": null,
      "border": null,
      "bottom": null,
      "display": null,
      "flex": null,
      "flex_flow": null,
      "grid_area": null,
      "grid_auto_columns": null,
      "grid_auto_flow": null,
      "grid_auto_rows": null,
      "grid_column": null,
      "grid_gap": null,
      "grid_row": null,
      "grid_template_areas": null,
      "grid_template_columns": null,
      "grid_template_rows": null,
      "height": null,
      "justify_content": null,
      "justify_items": null,
      "left": null,
      "margin": null,
      "max_height": null,
      "max_width": null,
      "min_height": null,
      "min_width": null,
      "object_fit": null,
      "object_position": null,
      "order": null,
      "overflow": null,
      "overflow_x": null,
      "overflow_y": null,
      "padding": null,
      "right": null,
      "top": null,
      "visibility": null,
      "width": null
     }
    },
    "f93440202a2343e5ab31b918506366a8": {
     "model_module": "@jupyter-widgets/controls",
     "model_module_version": "1.5.0",
     "model_name": "HTMLModel",
     "state": {
      "_dom_classes": [],
      "_model_module": "@jupyter-widgets/controls",
      "_model_module_version": "1.5.0",
      "_model_name": "HTMLModel",
      "_view_count": null,
      "_view_module": "@jupyter-widgets/controls",
      "_view_module_version": "1.5.0",
      "_view_name": "HTMLView",
      "description": "",
      "description_tooltip": null,
      "layout": "IPY_MODEL_69a869757cf243ca966713f08901217b",
      "placeholder": "​",
      "style": "IPY_MODEL_9769f08d30164cf2afc48c703955ba42",
      "value": " 28881/28881 [00:00&lt;00:00, 2154480.99it/s]"
     }
    }
   }
  }
 },
 "nbformat": 4,
 "nbformat_minor": 4
}
