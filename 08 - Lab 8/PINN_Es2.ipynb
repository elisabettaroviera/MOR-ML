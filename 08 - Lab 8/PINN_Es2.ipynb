{
 "cells": [
  {
   "cell_type": "markdown",
   "metadata": {
    "id": "jI5bxr0iKhy-"
   },
   "source": [
    "### **PINN Exercise!**\n",
    "\n",
    "**How to put boundary condition in a loss funcion...**\n",
    "\n",
    "Solve the following problem with a PINN\n",
    "$$\n",
    "\\begin{cases}\n",
    "u'' = \\cos(\\pi x) & \\text { in } (0,2), \\text{ second derivatives} \\\\\n",
    "u'(0) = 3  \\text{ Neuman boundary condition }\\\\\n",
    "u(2) = 0.  \n",
    "\\end{cases}\n",
    "$$\n",
    "Take inspiration from the exercises we have done in class.\n",
    "\n",
    "In this case, the exact solution is\n",
    "$$\n",
    "u(x) = 3(x - 2) - \\frac{1}{\\pi^2}(\\cos(\\pi x) - 1).\n",
    "$$"
   ]
  },
  {
   "cell_type": "code",
   "execution_count": 1,
   "metadata": {
    "id": "OAvMPQL9jxFi"
   },
   "outputs": [],
   "source": [
    "#### starting stuff ####\n",
    "\n",
    "import torch\n",
    "import torch.nn as nn\n",
    "from torch.autograd import Variable\n",
    "\n",
    "import numpy as np"
   ]
  },
  {
   "cell_type": "code",
   "execution_count": 2,
   "metadata": {
    "id": "4sY7P2-oj1YJ"
   },
   "outputs": [],
   "source": [
    "class Net(nn.Module):\n",
    "    def __init__(self):\n",
    "        super(Net, self).__init__()\n",
    "        self.input_layer = nn.Linear(1,5)\n",
    "        self.hidden_layer1 = nn.Linear(5,5)\n",
    "        self.hidden_layer2 = nn.Linear(5,5)\n",
    "        self.hidden_layer3 = nn.Linear(5,5)\n",
    "        self.hidden_layer4 = nn.Linear(5,5)\n",
    "        self.output_layer = nn.Linear(5,1)\n",
    "\n",
    "    def forward(self, x):\n",
    "        input = x\n",
    "        layer1_out = torch.sigmoid(self.input_layer(input))\n",
    "        layer2_out = torch.sigmoid(self.hidden_layer1(layer1_out))\n",
    "        layer3_out = torch.sigmoid(self.hidden_layer2(layer2_out))\n",
    "        layer4_out = torch.sigmoid(self.hidden_layer3(layer3_out))\n",
    "        layer5_out = torch.sigmoid(self.hidden_layer4(layer4_out))\n",
    "        output = self.output_layer(layer5_out)\n",
    "        \n",
    "        # We do NOT return the output, but we modify the output in order to, in a strong way, put the condition that u(2)=0\n",
    "        return (x - 2)*output # Way to avoid boundary condition in the loss because you set the condition in that way"
   ]
  },
  {
   "cell_type": "code",
   "execution_count": 3,
   "metadata": {
    "id": "jSkKJI0Aj5eQ"
   },
   "outputs": [],
   "source": [
    "### (2) Model\n",
    "seed = 0\n",
    "torch.manual_seed(seed)\n",
    "net = Net()\n",
    "mse_cost_function = torch.nn.MSELoss() # Mean squared error\n",
    "optimizer = torch.optim.Adam(net.parameters())"
   ]
  },
  {
   "cell_type": "code",
   "execution_count": 4,
   "metadata": {
    "id": "_vEekkC6kGhO"
   },
   "outputs": [],
   "source": [
    "## PDE as loss function. Thus would use the network which we call as u_theta\n",
    "def R(x, net):\n",
    "    u = net(x) # the dependent variable u is given by the network based on independent variables x,t\n",
    "    \n",
    "    ## Based on our R = du/dx - 2du/dt - u, we need du/dx and du/dt\n",
    "    u_x = torch.autograd.grad(u.sum(), x, create_graph=True)[0]\n",
    "    \n",
    "    u_xx = torch.autograd.grad(u_x.sum(), x, create_graph=True)[0] # We have to compute the second derivatives\n",
    "                                                                # Notice that here we use the scalar form\n",
    "    \n",
    "    f = torch.Tensor(np.cos(np.pi*x.detach().numpy()))\n",
    "    pde = u_xx - f\n",
    "    \n",
    "    return pde"
   ]
  },
  {
   "cell_type": "code",
   "execution_count": 5,
   "metadata": {
    "id": "ds4Uf66OrFJV"
   },
   "outputs": [],
   "source": [
    "### Neumann Boundary\n",
    "def Neumann(net):\n",
    "    x_bc_n = np.zeros((1,1)) # Point of the boundary put as zero\n",
    "    x_bc_n[0] = 0;\n",
    "    \n",
    "    pt_x_bc = Variable(torch.from_numpy(x_bc_n).float(), requires_grad=True) # I evaluate my net in the point 0\n",
    "    \n",
    "    u = net(pt_x_bc)\n",
    "    u_x = torch.autograd.grad(u.sum(), pt_x_bc, create_graph=True)[0] # Should work also without u.sum() because this is a scalar value\n",
    "                                                            # But it is always a good standard to perfome the computation in this way\n",
    "    \n",
    "    neumann = u_x - 3. # Neuman boundary condition -- as another PDE to verify\n",
    "    \n",
    "    return neumann"
   ]
  },
  {
   "cell_type": "code",
   "execution_count": 6,
   "metadata": {
    "id": "KYe_3szClcyA"
   },
   "outputs": [],
   "source": [
    "## Data from Boundary Conditions -- Definition of the boundary condition points\n",
    "# u(x,0)=6e^(-3x)\n",
    "## BC just gives us datapoints for training\n",
    "\n",
    "# BC tells us that for any x in range[0,2] and time=0, the value of u is given by 6e^(-3x)\n",
    "# Take say 500 random numbers of x\n",
    "x_bc = np.zeros((1,1)) # x point\n",
    "x_bc[0] = 2;\n",
    "u_bc = np.zeros((1,1)) # u point"
   ]
  },
  {
   "cell_type": "code",
   "execution_count": 8,
   "metadata": {
    "colab": {
     "base_uri": "https://localhost:8080/"
    },
    "id": "W_kszlgWklTz",
    "outputId": "818e23b9-8e3a-4060-9df7-dbd5c7e63787"
   },
   "outputs": [
    {
     "name": "stdout",
     "output_type": "stream",
     "text": [
      "epoch 199 loss 0.00369077711366117\n",
      "epoch 1199 loss 0.00317220576107502\n",
      "epoch 2199 loss 0.0017516122898086905\n",
      "epoch 3199 loss 0.0010161682730540633\n",
      "epoch 4199 loss 6.511950778076425e-05\n",
      "epoch 5199 loss 3.1326027965405956e-05\n",
      "epoch 6199 loss 2.31406265811529e-05\n",
      "epoch 7199 loss 1.7137992472271435e-05\n",
      "epoch 8199 loss 7.931336767796893e-06\n",
      "epoch 9199 loss 5.77520177102997e-06\n"
     ]
    }
   ],
   "source": [
    "### (3) Training / Fitting\n",
    "iterations = 10000\n",
    "for epoch in range(iterations):\n",
    "    optimizer.zero_grad() # to make the gradients zero\n",
    "    \n",
    "    # Loss based on boundary conditions\n",
    "    pt_x_bc = Variable(torch.from_numpy(x_bc).float(), requires_grad=False)\n",
    "    pt_u_bc = Variable(torch.from_numpy(u_bc).float(), requires_grad=False)\n",
    "    net_bc_out = net(pt_x_bc) # output of u(x)\n",
    "    mse_u = mse_cost_function(net_bc_out, pt_u_bc) # Difference between the net evaluation and the boundary condition\n",
    "\n",
    "    net_neumann = Neumann(net)\n",
    "    zero_n = np.zeros((1,1))\n",
    "    pt_zero_n = Variable(torch.from_numpy(zero_n).float(), requires_grad=False)\n",
    "    mse_n = mse_cost_function(net_neumann, pt_zero_n)\n",
    "    \n",
    "    # Loss based on PDE\n",
    "    x_collocation = np.random.uniform(low=0.0, high=2.0, size=(500,1)) # Take all the points inside\n",
    "    all_zeros = np.zeros((500,1))\n",
    "    \n",
    "    pt_x_collocation = Variable(torch.from_numpy(x_collocation).float(), requires_grad=True) # Using the definition of the residual I have to compute the derivatives\n",
    "    pt_all_zeros = Variable(torch.from_numpy(all_zeros).float(), requires_grad=False)\n",
    "    f_out = R(pt_x_collocation, net) # output of R(x)\n",
    "    mse_f = mse_cost_function(f_out, pt_all_zeros) \n",
    "    \n",
    "    # Combining the loss functions\n",
    "    loss =  mse_n + mse_f # + mse_u -- We can retrain with this modification (see the recordings for more details)\n",
    "    \n",
    "    loss.backward() \n",
    "    optimizer.step()\n",
    "\n",
    "    with torch.autograd.no_grad():\n",
    "    \tif epoch % 1000 == 199:\n",
    "            print(\"epoch\", epoch, 'loss', loss.item())\n",
    "            # Loss goes down quite fast"
   ]
  },
  {
   "cell_type": "code",
   "execution_count": 9,
   "metadata": {
    "id": "wGYvIhQzyC66"
   },
   "outputs": [
    {
     "data": {
      "image/png": "[encoded data removed]",
      "text/plain": [
       "<Figure size 640x480 with 1 Axes>"
      ]
     },
     "metadata": {},
     "output_type": "display_data"
    }
   ],
   "source": [
    "from mpl_toolkits.mplot3d import Axes3D\n",
    "import matplotlib.pyplot as plt\n",
    "from matplotlib import cm\n",
    "from matplotlib.ticker import LinearLocator, FormatStrFormatter\n",
    "import numpy as np\n",
    "\n",
    "x=np.random.uniform(low=0.0, high=2.0, size=(100,1))\n",
    "\n",
    "pt_x = Variable(torch.from_numpy(x).float(), requires_grad=True)\n",
    "pt_u = net(pt_x)\n",
    "u=pt_u.data.cpu().numpy()\n",
    "plt.scatter(x, u)\n",
    "plt.show()\n",
    "\n",
    "# We are a little bit before 0"
   ]
  },
  {
   "cell_type": "code",
   "execution_count": 10,
   "metadata": {
    "id": "cPv8a0sc1GuH"
   },
   "outputs": [
    {
     "name": "stdout",
     "output_type": "stream",
     "text": [
      "1.0\n"
     ]
    },
    {
     "data": {
      "image/png": "[encoded data removed]",
      "text/plain": [
       "<Figure size 640x480 with 1 Axes>"
      ]
     },
     "metadata": {},
     "output_type": "display_data"
    }
   ],
   "source": [
    "from mpl_toolkits.mplot3d import Axes3D\n",
    "import matplotlib.pyplot as plt\n",
    "from matplotlib import cm\n",
    "from matplotlib.ticker import LinearLocator, FormatStrFormatter\n",
    "import numpy as np\n",
    "\n",
    "x=np.random.uniform(low=0.0, high=2.0, size=(100,1))\n",
    "print(np.cos(np.pi*2))\n",
    "u=3*(x - 2) - (np.cos(np.pi*x) - 1)*(1/(np.pi**2))\n",
    "plt.scatter(x, u)\n",
    "plt.show()"
   ]
  },
  {
   "cell_type": "markdown",
   "metadata": {
    "id": "25E6VOKQ1_ux"
   },
   "source": [
    "To impose *directly* the boundary conditions (usually gives better training results) you have to: \n",
    "* impose the condition directly on the output of the forward law multiplying the output by a function that does the job!\n",
    "In our case: to make the solution zero at $x = 2$, a good function is $x - 2$. Thus ``(x - 2)*output``.\n",
    "* Get rid of the Dirichlet cost: it is not needed anymore :)"
   ]
  }
 ],
 "metadata": {
  "colab": {
   "provenance": []
  },
  "kernelspec": {
   "display_name": "Python 3 (ipykernel)",
   "language": "python",
   "name": "python3"
  },
  "language_info": {
   "codemirror_mode": {
    "name": "ipython",
    "version": 3
   },
   "file_extension": ".py",
   "mimetype": "text/x-python",
   "name": "python",
   "nbconvert_exporter": "python",
   "pygments_lexer": "ipython3",
   "version": "3.10.12"
  }
 },
 "nbformat": 4,
 "nbformat_minor": 4
}
