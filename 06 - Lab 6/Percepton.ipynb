{
 "cells": [
  {
   "cell_type": "markdown",
   "metadata": {
    "id": "cyAtWEebNtpg"
   },
   "source": [
    "# **Percepton for binary classification**\n",
    "\n",
    "**Disclaimer**: large parts of the lab are taken from [this webpage](https://machinelearningmastery.com/implement-perceptron-algorithm-scratch-python/).\n",
    "\n",
    "A percepton is the simplest structure for a Neural Net. It consists in a _input layer_ (only one) and a one dimensional _output layer_ (only one). Works quite well to linear classification problem.\n",
    "If the input layer has dimension $n$, as below,\n",
    "\n",
    "<img src=\"./Images/Percepton_1.png\"\n",
    " style=\"float:center;\" align=\"center\">\n",
    "\n",
    "\n",
    "the Neural Net predicts the output as the summation of the input\n",
    "$$\n",
    "\\sigma(w_0 + \\sum_i^{n}w_i x_i).\n",
    "$$\n",
    "Where $\\sigma$ is the activation function (that gives the non linear part), and $w_0$ is the bais.\n",
    "\n",
    "When dealing with a two-dimensional input as the following structure\n",
    "\n",
    "<img src=\"./Images/Percepton_2.png\"\n",
    " style=\"float:center;\">\n",
    " \n",
    "everything gets simple and the formula is\n",
    "$$\n",
    "\\sigma(w_0 + w_1x_1 + w_2x_2).\n",
    "$$\n",
    "Geometrically we define a line and with $\\sigma$ the line is shifted in a non linear way.\n",
    "\n",
    "In case of *binary classification*, we can define $\\sigma$ as\n",
    "\n",
    "$$\n",
    "\\sigma = \n",
    "\\begin{cases}\n",
    "1 & \\text{ if }  w_0 + w_1x_1 + w_2x_2 \\geq 0, \\\\\n",
    "0 & \\text{ otherwise}.\n",
    "\\end{cases}\n",
    "$$\n",
    "The risult is in relation to where is my position wrt the line $w_0 + w_1x_1 + w_2x_2$.\n",
    "\n",
    "Let us do that!"
   ]
  },
  {
   "cell_type": "code",
   "execution_count": 1,
   "metadata": {
    "id": "CSqCmX7EW92h"
   },
   "outputs": [],
   "source": [
    "# My prediction\n",
    "def predict(x, w, w0):\n",
    "    sigma = w0 + x[0]*w[0] + x[1]*w[1]\n",
    "    return 1.0 if sigma >= 0.0 else 0.0"
   ]
  },
  {
   "cell_type": "markdown",
   "metadata": {
    "id": "Qf4xBmIXXOBs"
   },
   "source": [
    "Now we focus on the following ``dataset``. The first entry is the $x$ coordinate, the second the $y$ coordinate and the third entry is the classification tag.\n",
    "\n",
    "We plot the data."
   ]
  },
  {
   "cell_type": "code",
   "execution_count": 3,
   "metadata": {
    "colab": {
     "base_uri": "https://localhost:8080/",
     "height": 265
    },
    "id": "eFfPfxelXNcN",
    "outputId": "32b28e34-6ec1-4e8a-a505-5f4bb76897f7"
   },
   "outputs": [
    {
     "data": {
      "image/png": "[encoded data removed]",
      "text/plain": [
       "<Figure size 640x480 with 1 Axes>"
      ]
     },
     "metadata": {},
     "output_type": "display_data"
    },
    {
     "name": "stdout",
     "output_type": "stream",
     "text": [
      "[7.673756466, 3.508563011, 1]\n"
     ]
    }
   ],
   "source": [
    "# ramdom data --> preparation of the dataset\n",
    "\n",
    "# x, y, label\n",
    "# 1 == red\n",
    "# 0 == blue\n",
    "dataset = [[2.7810836,2.550537003,0],\n",
    " [1.465489372,2.362125076,0],\n",
    " [3.396561688,4.400293529,0],\n",
    " [1.38807019,1.850220317,0],\n",
    " [3.06407232,3.005305973,0],\n",
    " [7.627531214,2.759262235,1],\n",
    " [5.332441248,2.088626775,1],\n",
    " [6.922596716,1.77106367,1],\n",
    " [8.675418651,-0.242068655,1],\n",
    " [7.673756466,3.508563011,1]]\n",
    "\n",
    "# plotting data\n",
    "import matplotlib.pyplot as plt\n",
    "import numpy as np\n",
    "\n",
    "x1 = []\n",
    "y1 = []\n",
    "x2 = []\n",
    "y2 = []\n",
    "\n",
    "# For the plot\n",
    "for row in dataset:\n",
    "    if row[-1] == 0:\n",
    "        x1.append(row[0])\n",
    "        y1.append(row[1])\n",
    "    else:\n",
    "        x2.append(row[0])\n",
    "        y2.append(row[1])\n",
    "    \n",
    "plt.scatter(x1, y1, c =\"blue\", label=\"First group\")\n",
    "plt.scatter(x2, y2, c =\"red\",label=\"Second group\")\n",
    "plt.legend()\n",
    "\n",
    "# To show the plot\n",
    "plt.show()\n",
    "\n",
    "print(dataset[-1])\n",
    "# weights = [-0.1, 0.20653640140000007, -0.23418117710000003]  #### this are the ones related to the dataset\n",
    "\n",
    "# AIM: I want to separete the blue and red dot"
   ]
  },
  {
   "cell_type": "code",
   "execution_count": 6,
   "metadata": {
    "id": "gls4-rAGYMtd"
   },
   "outputs": [],
   "source": [
    "# Backpropagation --> define the weights, using gradient descent method\n",
    "def train_weights(train, l_rate, n_epoch): # l_rate = alpha, n_epoch = k in the for loop\n",
    "    input_dim = len(train[0]) - 1 # One dimensional input here\n",
    "    weights = [0.0 for i in range(input_dim)]\n",
    "    bias = 0.0\n",
    "    sum_error = 0.0\n",
    "    for epoch in range(n_epoch):\n",
    "        # sum_error = 0.0\n",
    "        for x in train:\n",
    "            prediction = predict(x, weights,bias) # The function that predict the output of the net\n",
    "            print(prediction) # What I predicted\n",
    "            print(x[-1], \"x-1\") # The real label of the data\n",
    "            error = (x[-1] - prediction) # 0 or 1\n",
    "            sum_error += error**2\n",
    "            bias = bias + l_rate * error # Doing optimization on the loss function that we want to minimize\n",
    "            # The loss function is the square of the error\n",
    "            # We have to go to the direction of the gradient with the magituded gives from alpha (learning_rate)\n",
    "            \n",
    "            for i in range(len(x)-1):\n",
    "                weights[i] = weights[i] + l_rate * error * x[i] # Apply the chain rule to compute the gradient\n",
    "    \n",
    "    print('>epoch=%d, lrate=%.3f, error=%.3f' % (epoch, l_rate, sum_error))\n",
    "    return bias, weights"
   ]
  },
  {
   "cell_type": "code",
   "execution_count": 7,
   "metadata": {
    "colab": {
     "base_uri": "https://localhost:8080/"
    },
    "id": "RGedRb-pYxFb",
    "outputId": "d9da05b7-03c1-4778-edc9-adae9c53a746"
   },
   "outputs": [
    {
     "name": "stdout",
     "output_type": "stream",
     "text": [
      "1.0\n",
      "0 x-1\n",
      "0.0\n",
      "0 x-1\n",
      "0.0\n",
      "0 x-1\n",
      "0.0\n",
      "0 x-1\n",
      "0.0\n",
      "0 x-1\n",
      "0.0\n",
      "1 x-1\n",
      "1.0\n",
      "1 x-1\n",
      "1.0\n",
      "1 x-1\n",
      "1.0\n",
      "1 x-1\n",
      "1.0\n",
      "1 x-1\n",
      "1.0\n",
      "0 x-1\n",
      "0.0\n",
      "0 x-1\n",
      "0.0\n",
      "0 x-1\n",
      "0.0\n",
      "0 x-1\n",
      "0.0\n",
      "0 x-1\n",
      "1.0\n",
      "1 x-1\n",
      "1.0\n",
      "1 x-1\n",
      "1.0\n",
      "1 x-1\n",
      "1.0\n",
      "1 x-1\n",
      "1.0\n",
      "1 x-1\n",
      "0.0\n",
      "0 x-1\n",
      "0.0\n",
      "0 x-1\n",
      "0.0\n",
      "0 x-1\n",
      "0.0\n",
      "0 x-1\n",
      "0.0\n",
      "0 x-1\n",
      "1.0\n",
      "1 x-1\n",
      "1.0\n",
      "1 x-1\n",
      "1.0\n",
      "1 x-1\n",
      "1.0\n",
      "1 x-1\n",
      "1.0\n",
      "1 x-1\n",
      "0.0\n",
      "0 x-1\n",
      "0.0\n",
      "0 x-1\n",
      "0.0\n",
      "0 x-1\n",
      "0.0\n",
      "0 x-1\n",
      "0.0\n",
      "0 x-1\n",
      "1.0\n",
      "1 x-1\n",
      "1.0\n",
      "1 x-1\n",
      "1.0\n",
      "1 x-1\n",
      "1.0\n",
      "1 x-1\n",
      "1.0\n",
      "1 x-1\n",
      "0.0\n",
      "0 x-1\n",
      "0.0\n",
      "0 x-1\n",
      "0.0\n",
      "0 x-1\n",
      "0.0\n",
      "0 x-1\n",
      "0.0\n",
      "0 x-1\n",
      "1.0\n",
      "1 x-1\n",
      "1.0\n",
      "1 x-1\n",
      "1.0\n",
      "1 x-1\n",
      "1.0\n",
      "1 x-1\n",
      "1.0\n",
      "1 x-1\n",
      ">epoch=4, lrate=0.100, error=3.000\n",
      "weights: [0.20653640140000007, -0.23418117710000003]\n",
      "bias: -0.1\n"
     ]
    }
   ],
   "source": [
    "# Calculate weights\n",
    "\n",
    "l_rate = 0.1\n",
    "n_epoch = 5\n",
    "bias, weights = train_weights(dataset, l_rate, n_epoch)\n",
    "print(f\"weights: {weights}\")\n",
    "print(f\"bias: {bias}\")"
   ]
  },
  {
   "cell_type": "code",
   "execution_count": 8,
   "metadata": {
    "colab": {
     "base_uri": "https://localhost:8080/",
     "height": 265
    },
    "id": "w-IWjXH4dL3E",
    "outputId": "dab4670c-0423-4c25-984d-355e18fa41ce"
   },
   "outputs": [
    {
     "data": {
      "image/png": "[encoded data removed]",
      "text/plain": [
       "<Figure size 640x480 with 1 Axes>"
      ]
     },
     "metadata": {},
     "output_type": "display_data"
    }
   ],
   "source": [
    "#### point ####\n",
    "# New point to predict the label\n",
    "x = 3.7\n",
    "y = 2.\n",
    "\n",
    "#### plot the separation line ###\n",
    "xx = np.linspace(1,9,50)\n",
    "yy = (-xx*weights[0] - bias)/weights[1] \n",
    "\n",
    "\n",
    "prediction = predict([x,y],weights, bias)\n",
    "\n",
    "if prediction == 1:\n",
    "    color = \"red\"\n",
    "else:\n",
    "    color = \"blue\"\n",
    "### plot the new point ####\n",
    "\n",
    "plt.scatter(x1, y1, c = \"blue\", label=\"First group\")\n",
    "plt.scatter(x2, y2, c = \"red\",label=\"Second group\")\n",
    "plt.scatter(x, y, 200, c = color ,marker=\"^\",label=\"New evaluation\")\n",
    "plt.plot(xx, yy, label=\"separation line\", c=\"green\") # The line that the net found\n",
    "plt.ylim([0,5])\n",
    "plt.legend()\n",
    " \n",
    "# To show the plot\n",
    "plt.show()"
   ]
  }
 ],
 "metadata": {
  "colab": {
   "provenance": []
  },
  "kernelspec": {
   "display_name": "Python 3 (ipykernel)",
   "language": "python",
   "name": "python3"
  },
  "language_info": {
   "codemirror_mode": {
    "name": "ipython",
    "version": 3
   },
   "file_extension": ".py",
   "mimetype": "text/x-python",
   "name": "python",
   "nbconvert_exporter": "python",
   "pygments_lexer": "ipython3",
   "version": "3.10.12"
  }
 },
 "nbformat": 4,
 "nbformat_minor": 4
}
