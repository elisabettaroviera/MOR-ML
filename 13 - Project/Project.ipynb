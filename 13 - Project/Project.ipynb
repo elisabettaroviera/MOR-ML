{
 "cells": [
  {
   "cell_type": "markdown",
   "id": "60c546ad-25b0-4456-b847-1276977e0bf0",
   "metadata": {},
   "source": [
    "# Model Order Reduction & Machine Learning - Project\n",
    "## Nonlinear Elliptic problem POD vs PINNs"
   ]
  },
  {
   "cell_type": "markdown",
   "id": "d607dee8-30b6-4f19-ba98-af0b8d68783f",
   "metadata": {},
   "source": [
    "### Importing library"
   ]
  },
  {
   "cell_type": "code",
   "execution_count": 1,
   "id": "21d85db8-2882-4e73-8435-6edc4f0b5e45",
   "metadata": {},
   "outputs": [],
   "source": [
    "import sys\n",
    "sys.path.append('../../CppToPython')"
   ]
  },
  {
   "cell_type": "code",
   "execution_count": 2,
   "id": "aee139b4-ba12-46e9-9e40-ba1675fa58cb",
   "metadata": {},
   "outputs": [],
   "source": [
    "import numpy as np\n",
    "import GeDiM4Py as gedim\n",
    "from scipy.sparse.linalg import splu\n",
    "import time"
   ]
  },
  {
   "cell_type": "markdown",
   "id": "84d31c7e-5d2d-4ec9-919f-b3acae8e2218",
   "metadata": {},
   "source": [
    "### Initialize"
   ]
  },
  {
   "cell_type": "code",
   "execution_count": 3,
   "id": "1dcce6f5-d8bd-43fb-976a-986b1b6c077a",
   "metadata": {},
   "outputs": [],
   "source": [
    "lib = gedim.ImportLibrary(\"../../CppToPython/release/GeDiM4Py.so\")\n",
    "\n",
    "config = { 'GeometricTolerance': 1.0e-8 }\n",
    "gedim.Initialize(config, lib)"
   ]
  },
  {
   "cell_type": "markdown",
   "id": "d3394a6f-cb4c-4a80-83d0-64b38f00075b",
   "metadata": {},
   "source": [
    "## PART 1\n",
    "Let us consider the two-dimensional spatial domain $\\Omega = (0, 1)^2$. We want to solve the following parametrized problem: given $\\mu = (\\mu_0, \\mu_1) \\in \\mathcal{P} = [0.1, 1]^2$, find $u(\\mu)$ such that\n",
    "$$\n",
    "-\\Delta u(\\mu) + \\frac{\\mu_0}{\\mu_1} (e^{\\mu_1 u(\\mu)} - 1) = g(x;\\mu),\n",
    "$$\n",
    "with homogeneous Dirichlet condition on the boundary, i.e. zero-boundary condition.\n",
    "\n",
    "The forcing term, that does not depend on the parameters, defined as\n",
    "$$\n",
    "g(x;\\mu) = g_1 = 100 \\sin(2\\pi x_0) \\cos(2\\pi x_1) \\quad \\forall x = (x_0, x_1) \\in \\Omega.\n",
    "$$\n",
    "\n",
    "**Tasks:**\n",
    "\n",
    "1. Solve the problem by means of POD-Galerkin method over a Finite Element full order model -> using high fidelity element approximation of POD\n",
    "2. Solve the problem with a parametric PINN -> find the NN structure to reduce the problem\n",
    "3. Compare the two approaches in terms of computational costs and accuracy with respect to the full order model -> compare in terms of execution time & error\n",
    "4. **Optional:** Solve the problem with the POD-NN approach and compare it to the other two strategies."
   ]
  },
  {
   "cell_type": "code",
   "execution_count": null,
   "id": "04e9b28a-7263-4f9a-97dd-809df90db8c4",
   "metadata": {},
   "outputs": [],
   "source": [
    "# We have to define the structure of the problem"
   ]
  }
 ],
 "metadata": {
  "kernelspec": {
   "display_name": "Python 3 (ipykernel)",
   "language": "python",
   "name": "python3"
  },
  "language_info": {
   "codemirror_mode": {
    "name": "ipython",
    "version": 3
   },
   "file_extension": ".py",
   "mimetype": "text/x-python",
   "name": "python",
   "nbconvert_exporter": "python",
   "pygments_lexer": "ipython3",
   "version": "3.10.12"
  }
 },
 "nbformat": 4,
 "nbformat_minor": 5
}
